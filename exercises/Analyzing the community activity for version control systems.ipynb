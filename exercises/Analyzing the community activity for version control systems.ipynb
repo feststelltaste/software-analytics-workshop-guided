{
    "cells": [
        {
            "cell_type": "markdown",
            "metadata": {},
            "source": [
                "# Analyzing the community activity for version control systems"
            ]
        },
        {
            "cell_type": "markdown",
            "metadata": {},
            "source": [
                "## Exercise\n",
                "\n",
                "### Background\n",
                "\n",
                "Technology choices are different. There may be objective reasons for technology at a specific time. But those reasons often change over time. But the developed deep love for an now outdated technology can prevent every progress. Thus objective reasons may become subjective which can create a toxic environment when technology updates are addressed.\n",
                "\n",
                "### Your task\n",
                "\n",
                "You are a new team member in a software company. The developers there are using a version control system (\"VCS\" for short) called CVS (Concurrent Versions System). Some want to migrate to a better VCS. They prefer one that's called SVN (Subversion). You are young but not inexperienced. You heard about newer version control system named \"Git\". So you propose Git as an alternative to the team. They are very sceptical about your suggestion. Find evidence that shows that the software development community is mainly adopting the Git version control system!\n",
                "\n",
                "### The dataset\n",
                "\n",
                "There is a dataset from the online software developer community Stack Overflow in `../datasets/stackoverflow_vcs_data_subset.gz` (with a subset of columns) available with the following data:\n",
                "\n",
                "* `CreationDate`: the timestamp of the creation date of a Stack Overflow post (= question)\n",
                "* `TagName`: the tag name for a technology (in our case for only 4 VCSes: \"cvs\", \"svn\", \"git\" and \"mercurial\")\n",
                "* `ViewCount`: the numbers of views of a post\n",
                "\n"
            ]
        },
        {
            "cell_type": "markdown",
            "metadata": {},
            "source": [
                "## Your solution"
            ]
        },
        {
            "cell_type": "markdown",
            "metadata": {},
            "source": [
                "### Step 1: Load in the dataset"
            ]
        },
        {
            "cell_type": "code",
            "execution_count": null,
            "metadata": {
                "scrolled": true,
                "tags": [
                    "delete"
                ]
            },
            "outputs": [],
            "source": []
        },
        {
            "cell_type": "markdown",
            "metadata": {
                "heading_collapsed": true
            },
            "source": [
                "###### <span style=\"color:green;\">SOLUTION <small>(Click the arrow on the left side if a hint is needed)</small></span>"
            ]
        },
        {
            "cell_type": "code",
            "execution_count": null,
            "metadata": {
                "scrolled": true,
                "tags": [],
                "deletable": false,
                "editable": false,
                "hidden": true,
                "run_control": {
                    "frozen": true
                }
            },
            "outputs": [
                {
                    "data": {
                        "text/html": [
                            "<div>\n",
                            "<style scoped>\n",
                            "    .dataframe tbody tr th:only-of-type {\n",
                            "        vertical-align: middle;\n",
                            "    }\n",
                            "\n",
                            "    .dataframe tbody tr th {\n",
                            "        vertical-align: top;\n",
                            "    }\n",
                            "\n",
                            "    .dataframe thead th {\n",
                            "        text-align: right;\n",
                            "    }\n",
                            "</style>\n",
                            "<table border=\"1\" class=\"dataframe\">\n",
                            "  <thead>\n",
                            "    <tr style=\"text-align: right;\">\n",
                            "      <th></th>\n",
                            "      <th>CreationDate</th>\n",
                            "      <th>TagName</th>\n",
                            "      <th>ViewCount</th>\n",
                            "    </tr>\n",
                            "  </thead>\n",
                            "  <tbody>\n",
                            "    <tr>\n",
                            "      <th>0</th>\n",
                            "      <td>2008-08-01 13:56:33</td>\n",
                            "      <td>svn</td>\n",
                            "      <td>10880</td>\n",
                            "    </tr>\n",
                            "    <tr>\n",
                            "      <th>1</th>\n",
                            "      <td>2008-08-01 14:41:24</td>\n",
                            "      <td>svn</td>\n",
                            "      <td>55075</td>\n",
                            "    </tr>\n",
                            "    <tr>\n",
                            "      <th>2</th>\n",
                            "      <td>2008-08-01 15:22:29</td>\n",
                            "      <td>svn</td>\n",
                            "      <td>15144</td>\n",
                            "    </tr>\n",
                            "    <tr>\n",
                            "      <th>3</th>\n",
                            "      <td>2008-08-01 18:00:13</td>\n",
                            "      <td>svn</td>\n",
                            "      <td>8010</td>\n",
                            "    </tr>\n",
                            "    <tr>\n",
                            "      <th>4</th>\n",
                            "      <td>2008-08-01 18:33:08</td>\n",
                            "      <td>svn</td>\n",
                            "      <td>92006</td>\n",
                            "    </tr>\n",
                            "  </tbody>\n",
                            "</table>\n",
                            "</div>"
                        ],
                        "text/plain": [
                            "          CreationDate TagName  ViewCount\n",
                            "0  2008-08-01 13:56:33     svn      10880\n",
                            "1  2008-08-01 14:41:24     svn      55075\n",
                            "2  2008-08-01 15:22:29     svn      15144\n",
                            "3  2008-08-01 18:00:13     svn       8010\n",
                            "4  2008-08-01 18:33:08     svn      92006"
                        ]
                    },
                    "execution_count": null,
                    "metadata": {},
                    "output_type": "execute_result"
                }
            ],
            "source": [
                "import pandas as pd\n",
                "\n",
                "vcs_data = pd.read_csv('../datasets/stackoverflow_vcs_data_subset.gz')\n",
                "vcs_data.head()"
            ]
        },
        {
            "cell_type": "markdown",
            "metadata": {},
            "source": [
                "### Step 2: Explore the dataset by displaying the number of all posts for each VCS"
            ]
        },
        {
            "cell_type": "code",
            "execution_count": null,
            "metadata": {
                "scrolled": true,
                "tags": [
                    "delete"
                ]
            },
            "outputs": [],
            "source": []
        },
        {
            "cell_type": "markdown",
            "metadata": {
                "heading_collapsed": true
            },
            "source": [
                "###### <span style=\"color:green;\">SOLUTION <small>(Click the arrow on the left side if a hint is needed)</small></span>"
            ]
        },
        {
            "cell_type": "code",
            "execution_count": null,
            "metadata": {
                "scrolled": true,
                "tags": [],
                "deletable": false,
                "editable": false,
                "hidden": true,
                "run_control": {
                    "frozen": true
                }
            },
            "outputs": [
                {
                    "data": {
                        "text/plain": [
                            "git          113941\n",
                            "svn           25977\n",
                            "mercurial      7946\n",
                            "cvs            1505\n",
                            "Name: TagName, dtype: int64"
                        ]
                    },
                    "execution_count": null,
                    "metadata": {},
                    "output_type": "execute_result"
                }
            ],
            "source": [
                "vcs_data['TagName'].value_counts()"
            ]
        },
        {
            "cell_type": "markdown",
            "metadata": {},
            "source": [
                "### Step 3: Convert the column with the time stamp"
            ]
        },
        {
            "cell_type": "code",
            "execution_count": null,
            "metadata": {
                "scrolled": true,
                "tags": [
                    "delete"
                ]
            },
            "outputs": [],
            "source": []
        },
        {
            "cell_type": "markdown",
            "metadata": {
                "heading_collapsed": true
            },
            "source": [
                "###### <span style=\"color:green;\">SOLUTION <small>(Click the arrow on the left side if a hint is needed)</small></span>"
            ]
        },
        {
            "cell_type": "code",
            "execution_count": null,
            "metadata": {
                "scrolled": true,
                "tags": [],
                "deletable": false,
                "editable": false,
                "hidden": true,
                "run_control": {
                    "frozen": true
                }
            },
            "outputs": [
                {
                    "data": {
                        "text/html": [
                            "<div>\n",
                            "<style scoped>\n",
                            "    .dataframe tbody tr th:only-of-type {\n",
                            "        vertical-align: middle;\n",
                            "    }\n",
                            "\n",
                            "    .dataframe tbody tr th {\n",
                            "        vertical-align: top;\n",
                            "    }\n",
                            "\n",
                            "    .dataframe thead th {\n",
                            "        text-align: right;\n",
                            "    }\n",
                            "</style>\n",
                            "<table border=\"1\" class=\"dataframe\">\n",
                            "  <thead>\n",
                            "    <tr style=\"text-align: right;\">\n",
                            "      <th></th>\n",
                            "      <th>CreationDate</th>\n",
                            "      <th>TagName</th>\n",
                            "      <th>ViewCount</th>\n",
                            "    </tr>\n",
                            "  </thead>\n",
                            "  <tbody>\n",
                            "    <tr>\n",
                            "      <th>0</th>\n",
                            "      <td>2008-08-01 13:56:33</td>\n",
                            "      <td>svn</td>\n",
                            "      <td>10880</td>\n",
                            "    </tr>\n",
                            "    <tr>\n",
                            "      <th>1</th>\n",
                            "      <td>2008-08-01 14:41:24</td>\n",
                            "      <td>svn</td>\n",
                            "      <td>55075</td>\n",
                            "    </tr>\n",
                            "    <tr>\n",
                            "      <th>2</th>\n",
                            "      <td>2008-08-01 15:22:29</td>\n",
                            "      <td>svn</td>\n",
                            "      <td>15144</td>\n",
                            "    </tr>\n",
                            "    <tr>\n",
                            "      <th>3</th>\n",
                            "      <td>2008-08-01 18:00:13</td>\n",
                            "      <td>svn</td>\n",
                            "      <td>8010</td>\n",
                            "    </tr>\n",
                            "    <tr>\n",
                            "      <th>4</th>\n",
                            "      <td>2008-08-01 18:33:08</td>\n",
                            "      <td>svn</td>\n",
                            "      <td>92006</td>\n",
                            "    </tr>\n",
                            "  </tbody>\n",
                            "</table>\n",
                            "</div>"
                        ],
                        "text/plain": [
                            "         CreationDate TagName  ViewCount\n",
                            "0 2008-08-01 13:56:33     svn      10880\n",
                            "1 2008-08-01 14:41:24     svn      55075\n",
                            "2 2008-08-01 15:22:29     svn      15144\n",
                            "3 2008-08-01 18:00:13     svn       8010\n",
                            "4 2008-08-01 18:33:08     svn      92006"
                        ]
                    },
                    "execution_count": null,
                    "metadata": {},
                    "output_type": "execute_result"
                }
            ],
            "source": [
                "vcs_data['CreationDate'] = pd.to_datetime(vcs_data['CreationDate'])\n",
                "vcs_data.head()"
            ]
        },
        {
            "cell_type": "markdown",
            "metadata": {},
            "source": [
                "### Step 4: Sum up the view counts by the timestamp and the VCSes"
            ]
        },
        {
            "cell_type": "code",
            "execution_count": null,
            "metadata": {
                "scrolled": true,
                "tags": [
                    "delete"
                ]
            },
            "outputs": [],
            "source": []
        },
        {
            "cell_type": "markdown",
            "metadata": {
                "heading_collapsed": true
            },
            "source": [
                "###### <span style=\"color:green;\">SOLUTION <small>(Click the arrow on the left side if a hint is needed)</small></span>"
            ]
        },
        {
            "cell_type": "code",
            "execution_count": null,
            "metadata": {
                "scrolled": true,
                "tags": [],
                "deletable": false,
                "editable": false,
                "hidden": true,
                "run_control": {
                    "frozen": true
                }
            },
            "outputs": [
                {
                    "data": {
                        "text/html": [
                            "<div>\n",
                            "<style scoped>\n",
                            "    .dataframe tbody tr th:only-of-type {\n",
                            "        vertical-align: middle;\n",
                            "    }\n",
                            "\n",
                            "    .dataframe tbody tr th {\n",
                            "        vertical-align: top;\n",
                            "    }\n",
                            "\n",
                            "    .dataframe thead th {\n",
                            "        text-align: right;\n",
                            "    }\n",
                            "</style>\n",
                            "<table border=\"1\" class=\"dataframe\">\n",
                            "  <thead>\n",
                            "    <tr style=\"text-align: right;\">\n",
                            "      <th></th>\n",
                            "      <th></th>\n",
                            "      <th>ViewCount</th>\n",
                            "    </tr>\n",
                            "    <tr>\n",
                            "      <th>CreationDate</th>\n",
                            "      <th>TagName</th>\n",
                            "      <th></th>\n",
                            "    </tr>\n",
                            "  </thead>\n",
                            "  <tbody>\n",
                            "    <tr>\n",
                            "      <th>2008-08-01 13:56:33</th>\n",
                            "      <th>svn</th>\n",
                            "      <td>10880</td>\n",
                            "    </tr>\n",
                            "    <tr>\n",
                            "      <th>2008-08-01 14:41:24</th>\n",
                            "      <th>svn</th>\n",
                            "      <td>55075</td>\n",
                            "    </tr>\n",
                            "    <tr>\n",
                            "      <th>2008-08-01 15:22:29</th>\n",
                            "      <th>svn</th>\n",
                            "      <td>15144</td>\n",
                            "    </tr>\n",
                            "    <tr>\n",
                            "      <th>2008-08-01 18:00:13</th>\n",
                            "      <th>svn</th>\n",
                            "      <td>8010</td>\n",
                            "    </tr>\n",
                            "    <tr>\n",
                            "      <th>2008-08-01 18:33:08</th>\n",
                            "      <th>svn</th>\n",
                            "      <td>92006</td>\n",
                            "    </tr>\n",
                            "  </tbody>\n",
                            "</table>\n",
                            "</div>"
                        ],
                        "text/plain": [
                            "                             ViewCount\n",
                            "CreationDate        TagName           \n",
                            "2008-08-01 13:56:33 svn          10880\n",
                            "2008-08-01 14:41:24 svn          55075\n",
                            "2008-08-01 15:22:29 svn          15144\n",
                            "2008-08-01 18:00:13 svn           8010\n",
                            "2008-08-01 18:33:08 svn          92006"
                        ]
                    },
                    "execution_count": null,
                    "metadata": {},
                    "output_type": "execute_result"
                }
            ],
            "source": [
                "number_of_posts = vcs_data.groupby(['CreationDate', 'TagName']).sum()\n",
                "number_of_posts.head()"
            ]
        },
        {
            "cell_type": "markdown",
            "metadata": {},
            "source": [
                "### Step 5: List the number of views by date for each VCS\n",
                "Hint: You may unstack and fill in the data (and get rid of the hierarchical column)"
            ]
        },
        {
            "cell_type": "code",
            "execution_count": null,
            "metadata": {
                "scrolled": true,
                "tags": [
                    "delete"
                ]
            },
            "outputs": [],
            "source": []
        },
        {
            "cell_type": "markdown",
            "metadata": {
                "heading_collapsed": true
            },
            "source": [
                "###### <span style=\"color:green;\">SOLUTION <small>(Click the arrow on the left side if a hint is needed)</small></span>"
            ]
        },
        {
            "cell_type": "code",
            "execution_count": null,
            "metadata": {
                "scrolled": true,
                "tags": [],
                "deletable": false,
                "editable": false,
                "hidden": true,
                "run_control": {
                    "frozen": true
                }
            },
            "outputs": [
                {
                    "data": {
                        "text/html": [
                            "<div>\n",
                            "<style scoped>\n",
                            "    .dataframe tbody tr th:only-of-type {\n",
                            "        vertical-align: middle;\n",
                            "    }\n",
                            "\n",
                            "    .dataframe tbody tr th {\n",
                            "        vertical-align: top;\n",
                            "    }\n",
                            "\n",
                            "    .dataframe thead th {\n",
                            "        text-align: right;\n",
                            "    }\n",
                            "</style>\n",
                            "<table border=\"1\" class=\"dataframe\">\n",
                            "  <thead>\n",
                            "    <tr style=\"text-align: right;\">\n",
                            "      <th>TagName</th>\n",
                            "      <th>cvs</th>\n",
                            "      <th>git</th>\n",
                            "      <th>mercurial</th>\n",
                            "      <th>svn</th>\n",
                            "    </tr>\n",
                            "    <tr>\n",
                            "      <th>CreationDate</th>\n",
                            "      <th></th>\n",
                            "      <th></th>\n",
                            "      <th></th>\n",
                            "      <th></th>\n",
                            "    </tr>\n",
                            "  </thead>\n",
                            "  <tbody>\n",
                            "    <tr>\n",
                            "      <th>2008-08-01 13:56:33</th>\n",
                            "      <td>0</td>\n",
                            "      <td>0</td>\n",
                            "      <td>0</td>\n",
                            "      <td>10880</td>\n",
                            "    </tr>\n",
                            "    <tr>\n",
                            "      <th>2008-08-01 14:41:24</th>\n",
                            "      <td>0</td>\n",
                            "      <td>0</td>\n",
                            "      <td>0</td>\n",
                            "      <td>55075</td>\n",
                            "    </tr>\n",
                            "    <tr>\n",
                            "      <th>2008-08-01 15:22:29</th>\n",
                            "      <td>0</td>\n",
                            "      <td>0</td>\n",
                            "      <td>0</td>\n",
                            "      <td>15144</td>\n",
                            "    </tr>\n",
                            "    <tr>\n",
                            "      <th>2008-08-01 18:00:13</th>\n",
                            "      <td>0</td>\n",
                            "      <td>0</td>\n",
                            "      <td>0</td>\n",
                            "      <td>8010</td>\n",
                            "    </tr>\n",
                            "    <tr>\n",
                            "      <th>2008-08-01 18:33:08</th>\n",
                            "      <td>0</td>\n",
                            "      <td>0</td>\n",
                            "      <td>0</td>\n",
                            "      <td>92006</td>\n",
                            "    </tr>\n",
                            "  </tbody>\n",
                            "</table>\n",
                            "</div>"
                        ],
                        "text/plain": [
                            "TagName              cvs  git  mercurial    svn\n",
                            "CreationDate                                   \n",
                            "2008-08-01 13:56:33    0    0          0  10880\n",
                            "2008-08-01 14:41:24    0    0          0  55075\n",
                            "2008-08-01 15:22:29    0    0          0  15144\n",
                            "2008-08-01 18:00:13    0    0          0   8010\n",
                            "2008-08-01 18:33:08    0    0          0  92006"
                        ]
                    },
                    "execution_count": null,
                    "metadata": {},
                    "output_type": "execute_result"
                }
            ],
            "source": [
                "views_per_vcs = number_of_posts.unstack(fill_value=0)['ViewCount']\n",
                "views_per_vcs.head()"
            ]
        },
        {
            "cell_type": "markdown",
            "metadata": {},
            "source": [
                "### Step 6: Accumulate the number of views for the VCSes for every month over all the years\n",
                "Hint: First, you have to resample the data and summing it up"
            ]
        },
        {
            "cell_type": "code",
            "execution_count": null,
            "metadata": {
                "scrolled": true,
                "tags": [
                    "delete"
                ]
            },
            "outputs": [],
            "source": []
        },
        {
            "cell_type": "markdown",
            "metadata": {
                "heading_collapsed": true
            },
            "source": [
                "###### <span style=\"color:green;\">SOLUTION <small>(Click the arrow on the left side if a hint is needed)</small></span>"
            ]
        },
        {
            "cell_type": "code",
            "execution_count": null,
            "metadata": {
                "scrolled": true,
                "tags": [],
                "deletable": false,
                "editable": false,
                "hidden": true,
                "run_control": {
                    "frozen": true
                }
            },
            "outputs": [
                {
                    "data": {
                        "text/html": [
                            "<div>\n",
                            "<style scoped>\n",
                            "    .dataframe tbody tr th:only-of-type {\n",
                            "        vertical-align: middle;\n",
                            "    }\n",
                            "\n",
                            "    .dataframe tbody tr th {\n",
                            "        vertical-align: top;\n",
                            "    }\n",
                            "\n",
                            "    .dataframe thead th {\n",
                            "        text-align: right;\n",
                            "    }\n",
                            "</style>\n",
                            "<table border=\"1\" class=\"dataframe\">\n",
                            "  <thead>\n",
                            "    <tr style=\"text-align: right;\">\n",
                            "      <th>TagName</th>\n",
                            "      <th>cvs</th>\n",
                            "      <th>git</th>\n",
                            "      <th>mercurial</th>\n",
                            "      <th>svn</th>\n",
                            "    </tr>\n",
                            "    <tr>\n",
                            "      <th>CreationDate</th>\n",
                            "      <th></th>\n",
                            "      <th></th>\n",
                            "      <th></th>\n",
                            "      <th></th>\n",
                            "    </tr>\n",
                            "  </thead>\n",
                            "  <tbody>\n",
                            "    <tr>\n",
                            "      <th>2008-08-31</th>\n",
                            "      <td>165811</td>\n",
                            "      <td>2502424</td>\n",
                            "      <td>755846</td>\n",
                            "      <td>3488439</td>\n",
                            "    </tr>\n",
                            "    <tr>\n",
                            "      <th>2008-09-30</th>\n",
                            "      <td>428713</td>\n",
                            "      <td>15224415</td>\n",
                            "      <td>891127</td>\n",
                            "      <td>11405500</td>\n",
                            "    </tr>\n",
                            "    <tr>\n",
                            "      <th>2008-10-31</th>\n",
                            "      <td>637236</td>\n",
                            "      <td>25672697</td>\n",
                            "      <td>1114432</td>\n",
                            "      <td>14295198</td>\n",
                            "    </tr>\n",
                            "    <tr>\n",
                            "      <th>2008-11-30</th>\n",
                            "      <td>752735</td>\n",
                            "      <td>32492475</td>\n",
                            "      <td>1184003</td>\n",
                            "      <td>15848089</td>\n",
                            "    </tr>\n",
                            "    <tr>\n",
                            "      <th>2008-12-31</th>\n",
                            "      <td>878710</td>\n",
                            "      <td>37829614</td>\n",
                            "      <td>1222065</td>\n",
                            "      <td>18256764</td>\n",
                            "    </tr>\n",
                            "  </tbody>\n",
                            "</table>\n",
                            "</div>"
                        ],
                        "text/plain": [
                            "TagName          cvs       git  mercurial       svn\n",
                            "CreationDate                                       \n",
                            "2008-08-31    165811   2502424     755846   3488439\n",
                            "2008-09-30    428713  15224415     891127  11405500\n",
                            "2008-10-31    637236  25672697    1114432  14295198\n",
                            "2008-11-30    752735  32492475    1184003  15848089\n",
                            "2008-12-31    878710  37829614    1222065  18256764"
                        ]
                    },
                    "execution_count": null,
                    "metadata": {},
                    "output_type": "execute_result"
                }
            ],
            "source": [
                "cumulated_posts = views_per_vcs.resample(\"1M\").sum().cumsum()\n",
                "cumulated_posts.head()"
            ]
        },
        {
            "cell_type": "markdown",
            "metadata": {},
            "source": [
                "### Step 7: Visualize the number of views over time for all VCSes"
            ]
        },
        {
            "cell_type": "code",
            "execution_count": null,
            "metadata": {
                "tags": [
                    "delete"
                ]
            },
            "outputs": [],
            "source": []
        },
        {
            "cell_type": "markdown",
            "metadata": {
                "heading_collapsed": true
            },
            "source": [
                "###### <span style=\"color:green;\">SOLUTION <small>(Click the arrow on the left side if a hint is needed)</small></span>"
            ]
        },
        {
            "cell_type": "code",
            "execution_count": null,
            "metadata": {
                "tags": [],
                "deletable": false,
                "editable": false,
                "hidden": true,
                "run_control": {
                    "frozen": true
                }
            },
            "outputs": [
                {
                    "data": {
                        "image/png": "[encoded data removed]",
                        "text/plain": [
                            "<Figure size 432x288 with 1 Axes>"
                        ]
                    },
                    "metadata": {
                        "image/png": {
                            "height": 277,
                            "width": 364
                        },
                        "needs_background": "light"
                    },
                    "output_type": "display_data"
                }
            ],
            "source": [
                "%matplotlib inline\n",
                "cumulated_posts.plot(title=\"accumulated monthly stackoverflow post views\");"
            ]
        },
        {
            "cell_type": "markdown",
            "metadata": {},
            "source": [
                "### Step 8: What are your conclusions? Discuss!"
            ]
        }
    ],
    "metadata": {
        "kernelspec": {
            "display_name": "Python 3",
            "language": "python",
            "name": "python3"
        },
        "language_info": {
            "codemirror_mode": {
                "name": "ipython",
                "version": 3
            },
            "file_extension": ".py",
            "mimetype": "text/x-python",
            "name": "python",
            "nbconvert_exporter": "python",
            "pygments_lexer": "ipython3",
            "version": "3.6.0"
        }
    },
    "nbformat": 4,
    "nbformat_minor": 2
}
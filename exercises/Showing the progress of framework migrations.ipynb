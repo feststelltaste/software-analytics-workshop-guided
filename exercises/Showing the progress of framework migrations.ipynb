{
    "cells": [
        {
            "cell_type": "markdown",
            "metadata": {},
            "source": [
                "# Showing the progress of framework migrations"
            ]
        },
        {
            "cell_type": "markdown",
            "metadata": {},
            "source": [
                "## Exercise\n",
                "\n",
                "### Background\n",
                "In software systems, there is a need to change some code that is entangled in all the other code parts of your system. Especially when you need to replace a framework, huge efforts and endurance are needed to successfully change from one framework to the another. Here it is crucial to deliver  information about the current progress of the replacement activity.\n",
                "\n",
                "### Your task\n",
                "\n",
                "In this exercise, you should demonstrate the progress of the replacement of a database access framework. In particular, there is some code that uses a library called \"Java Database Connectivity\" (or \"JDBC\" for short). This library has many custom code that is now supported by a more advanced library called \"Java Persistence API\" (or \"JPA\" for short). Show the progress in regards of existing source code lines for both technologies!\n",
                "\n",
                "### The dataset\n",
                "There is already a code base where the replacement is ongoing. You also have a dataset from the Git repository that the team uses in `../datasets/git_log_database_refactoring.gz` .\n",
                "\n",
                "In this dataset, you can find the following information for each change of each file:\n",
                "\n",
                "* `additions`: number of the lines added\n",
                "* `deletions`: number of the lines deleted\n",
                "* `file`: the relative path of the file\n",
                "* `timestamp`: the date of the commit\n",
                "\n",
                "The `file` column contains some information about the framework technology used. Some directory names (= \"package name\" in the Java programming language) have a directory named `jdbc` and others have a directoy named `jpa`."
            ]
        },
        {
            "cell_type": "markdown",
            "metadata": {},
            "source": [
                "## Your solution"
            ]
        },
        {
            "cell_type": "markdown",
            "metadata": {},
            "source": [
                "### Step 1: Load in the dataset"
            ]
        },
        {
            "cell_type": "code",
            "execution_count": null,
            "metadata": {
                "tags": [
                    "delete"
                ]
            },
            "outputs": [],
            "source": []
        },
        {
            "cell_type": "markdown",
            "metadata": {
                "heading_collapsed": true
            },
            "source": [
                "###### <span style=\"color:green;\">SOLUTION <small>(Click the arrow on the left side if a hint is needed)</small></span>"
            ]
        },
        {
            "cell_type": "code",
            "execution_count": null,
            "metadata": {
                "tags": [],
                "deletable": false,
                "editable": false,
                "hidden": true,
                "run_control": {
                    "frozen": true
                }
            },
            "outputs": [
                {
                    "data": {
                        "text/html": [
                            "<div>\n",
                            "<style scoped>\n",
                            "    .dataframe tbody tr th:only-of-type {\n",
                            "        vertical-align: middle;\n",
                            "    }\n",
                            "\n",
                            "    .dataframe tbody tr th {\n",
                            "        vertical-align: top;\n",
                            "    }\n",
                            "\n",
                            "    .dataframe thead th {\n",
                            "        text-align: right;\n",
                            "    }\n",
                            "</style>\n",
                            "<table border=\"1\" class=\"dataframe\">\n",
                            "  <thead>\n",
                            "    <tr style=\"text-align: right;\">\n",
                            "      <th></th>\n",
                            "      <th>additions</th>\n",
                            "      <th>deletions</th>\n",
                            "      <th>file</th>\n",
                            "      <th>timestamp</th>\n",
                            "    </tr>\n",
                            "  </thead>\n",
                            "  <tbody>\n",
                            "    <tr>\n",
                            "      <th>0</th>\n",
                            "      <td>19</td>\n",
                            "      <td>0</td>\n",
                            "      <td>src/main/java/org/springframework/samples/petc...</td>\n",
                            "      <td>2017-12-31 19:41:29</td>\n",
                            "    </tr>\n",
                            "    <tr>\n",
                            "      <th>1</th>\n",
                            "      <td>55</td>\n",
                            "      <td>0</td>\n",
                            "      <td>src/main/java/org/springframework/samples/petc...</td>\n",
                            "      <td>2017-12-30 12:48:20</td>\n",
                            "    </tr>\n",
                            "    <tr>\n",
                            "      <th>2</th>\n",
                            "      <td>29</td>\n",
                            "      <td>0</td>\n",
                            "      <td>src/main/java/org/springframework/samples/petc...</td>\n",
                            "      <td>2017-12-30 12:48:20</td>\n",
                            "    </tr>\n",
                            "    <tr>\n",
                            "      <th>3</th>\n",
                            "      <td>0</td>\n",
                            "      <td>99</td>\n",
                            "      <td>src/main/java/org/springframework/samples/petc...</td>\n",
                            "      <td>2017-12-30 00:38:54</td>\n",
                            "    </tr>\n",
                            "    <tr>\n",
                            "      <th>4</th>\n",
                            "      <td>19</td>\n",
                            "      <td>0</td>\n",
                            "      <td>src/main/java/org/springframework/samples/petc...</td>\n",
                            "      <td>2017-12-30 00:38:54</td>\n",
                            "    </tr>\n",
                            "  </tbody>\n",
                            "</table>\n",
                            "</div>"
                        ],
                        "text/plain": [
                            "   additions  deletions                                               file  \\\n",
                            "0         19          0  src/main/java/org/springframework/samples/petc...   \n",
                            "1         55          0  src/main/java/org/springframework/samples/petc...   \n",
                            "2         29          0  src/main/java/org/springframework/samples/petc...   \n",
                            "3          0         99  src/main/java/org/springframework/samples/petc...   \n",
                            "4         19          0  src/main/java/org/springframework/samples/petc...   \n",
                            "\n",
                            "             timestamp  \n",
                            "0  2017-12-31 19:41:29  \n",
                            "1  2017-12-30 12:48:20  \n",
                            "2  2017-12-30 12:48:20  \n",
                            "3  2017-12-30 00:38:54  \n",
                            "4  2017-12-30 00:38:54  "
                        ]
                    },
                    "execution_count": null,
                    "metadata": {},
                    "output_type": "execute_result"
                }
            ],
            "source": [
                "import pandas as pd\n",
                "\n",
                "log = pd.read_csv(\"../datasets/git_log_database_refactoring.gz\")\n",
                "log.head()"
            ]
        },
        {
            "cell_type": "markdown",
            "metadata": {},
            "source": [
                "### Step 2: Parse the data as needed"
            ]
        },
        {
            "cell_type": "code",
            "execution_count": null,
            "metadata": {
                "tags": [
                    "delete"
                ]
            },
            "outputs": [],
            "source": []
        },
        {
            "cell_type": "markdown",
            "metadata": {
                "heading_collapsed": true
            },
            "source": [
                "###### <span style=\"color:green;\">SOLUTION <small>(Click the arrow on the left side if a hint is needed)</small></span>"
            ]
        },
        {
            "cell_type": "code",
            "execution_count": null,
            "metadata": {
                "tags": [],
                "deletable": false,
                "editable": false,
                "hidden": true,
                "run_control": {
                    "frozen": true
                }
            },
            "outputs": [
                {
                    "data": {
                        "text/html": [
                            "<div>\n",
                            "<style scoped>\n",
                            "    .dataframe tbody tr th:only-of-type {\n",
                            "        vertical-align: middle;\n",
                            "    }\n",
                            "\n",
                            "    .dataframe tbody tr th {\n",
                            "        vertical-align: top;\n",
                            "    }\n",
                            "\n",
                            "    .dataframe thead th {\n",
                            "        text-align: right;\n",
                            "    }\n",
                            "</style>\n",
                            "<table border=\"1\" class=\"dataframe\">\n",
                            "  <thead>\n",
                            "    <tr style=\"text-align: right;\">\n",
                            "      <th></th>\n",
                            "      <th>additions</th>\n",
                            "      <th>deletions</th>\n",
                            "      <th>file</th>\n",
                            "      <th>timestamp</th>\n",
                            "    </tr>\n",
                            "  </thead>\n",
                            "  <tbody>\n",
                            "    <tr>\n",
                            "      <th>0</th>\n",
                            "      <td>19</td>\n",
                            "      <td>0</td>\n",
                            "      <td>src/main/java/org/springframework/samples/petc...</td>\n",
                            "      <td>2017-12-31 19:41:29</td>\n",
                            "    </tr>\n",
                            "    <tr>\n",
                            "      <th>1</th>\n",
                            "      <td>55</td>\n",
                            "      <td>0</td>\n",
                            "      <td>src/main/java/org/springframework/samples/petc...</td>\n",
                            "      <td>2017-12-30 12:48:20</td>\n",
                            "    </tr>\n",
                            "    <tr>\n",
                            "      <th>2</th>\n",
                            "      <td>29</td>\n",
                            "      <td>0</td>\n",
                            "      <td>src/main/java/org/springframework/samples/petc...</td>\n",
                            "      <td>2017-12-30 12:48:20</td>\n",
                            "    </tr>\n",
                            "    <tr>\n",
                            "      <th>3</th>\n",
                            "      <td>0</td>\n",
                            "      <td>99</td>\n",
                            "      <td>src/main/java/org/springframework/samples/petc...</td>\n",
                            "      <td>2017-12-30 00:38:54</td>\n",
                            "    </tr>\n",
                            "    <tr>\n",
                            "      <th>4</th>\n",
                            "      <td>19</td>\n",
                            "      <td>0</td>\n",
                            "      <td>src/main/java/org/springframework/samples/petc...</td>\n",
                            "      <td>2017-12-30 00:38:54</td>\n",
                            "    </tr>\n",
                            "  </tbody>\n",
                            "</table>\n",
                            "</div>"
                        ],
                        "text/plain": [
                            "   additions  deletions                                               file  \\\n",
                            "0         19          0  src/main/java/org/springframework/samples/petc...   \n",
                            "1         55          0  src/main/java/org/springframework/samples/petc...   \n",
                            "2         29          0  src/main/java/org/springframework/samples/petc...   \n",
                            "3          0         99  src/main/java/org/springframework/samples/petc...   \n",
                            "4         19          0  src/main/java/org/springframework/samples/petc...   \n",
                            "\n",
                            "            timestamp  \n",
                            "0 2017-12-31 19:41:29  \n",
                            "1 2017-12-30 12:48:20  \n",
                            "2 2017-12-30 12:48:20  \n",
                            "3 2017-12-30 00:38:54  \n",
                            "4 2017-12-30 00:38:54  "
                        ]
                    },
                    "execution_count": null,
                    "metadata": {},
                    "output_type": "execute_result"
                }
            ],
            "source": [
                "log['timestamp'] = pd.to_datetime(log['timestamp'])\n",
                "log.head()"
            ]
        },
        {
            "cell_type": "markdown",
            "metadata": {},
            "source": [
                "### Step 3: Find the information about the used technology"
            ]
        },
        {
            "cell_type": "code",
            "execution_count": null,
            "metadata": {
                "tags": [
                    "delete"
                ]
            },
            "outputs": [],
            "source": []
        },
        {
            "cell_type": "markdown",
            "metadata": {
                "heading_collapsed": true
            },
            "source": [
                "###### <span style=\"color:green;\">SOLUTION <small>(Click the arrow on the left side if a hint is needed)</small></span>"
            ]
        },
        {
            "cell_type": "code",
            "execution_count": null,
            "metadata": {
                "tags": [],
                "deletable": false,
                "editable": false,
                "hidden": true,
                "run_control": {
                    "frozen": true
                }
            },
            "outputs": [
                {
                    "data": {
                        "text/html": [
                            "<div>\n",
                            "<style scoped>\n",
                            "    .dataframe tbody tr th:only-of-type {\n",
                            "        vertical-align: middle;\n",
                            "    }\n",
                            "\n",
                            "    .dataframe tbody tr th {\n",
                            "        vertical-align: top;\n",
                            "    }\n",
                            "\n",
                            "    .dataframe thead th {\n",
                            "        text-align: right;\n",
                            "    }\n",
                            "</style>\n",
                            "<table border=\"1\" class=\"dataframe\">\n",
                            "  <thead>\n",
                            "    <tr style=\"text-align: right;\">\n",
                            "      <th></th>\n",
                            "      <th>additions</th>\n",
                            "      <th>deletions</th>\n",
                            "      <th>file</th>\n",
                            "      <th>timestamp</th>\n",
                            "      <th>tech</th>\n",
                            "    </tr>\n",
                            "  </thead>\n",
                            "  <tbody>\n",
                            "    <tr>\n",
                            "      <th>0</th>\n",
                            "      <td>19</td>\n",
                            "      <td>0</td>\n",
                            "      <td>src/main/java/org/springframework/samples/petc...</td>\n",
                            "      <td>2017-12-31 19:41:29</td>\n",
                            "      <td>jpa</td>\n",
                            "    </tr>\n",
                            "    <tr>\n",
                            "      <th>1</th>\n",
                            "      <td>55</td>\n",
                            "      <td>0</td>\n",
                            "      <td>src/main/java/org/springframework/samples/petc...</td>\n",
                            "      <td>2017-12-30 12:48:20</td>\n",
                            "      <td>jpa</td>\n",
                            "    </tr>\n",
                            "    <tr>\n",
                            "      <th>2</th>\n",
                            "      <td>29</td>\n",
                            "      <td>0</td>\n",
                            "      <td>src/main/java/org/springframework/samples/petc...</td>\n",
                            "      <td>2017-12-30 12:48:20</td>\n",
                            "      <td>jpa</td>\n",
                            "    </tr>\n",
                            "    <tr>\n",
                            "      <th>32</th>\n",
                            "      <td>0</td>\n",
                            "      <td>47</td>\n",
                            "      <td>src/main/java/org/springframework/samples/petc...</td>\n",
                            "      <td>2017-12-29 15:28:42</td>\n",
                            "      <td>jpa</td>\n",
                            "    </tr>\n",
                            "    <tr>\n",
                            "      <th>123</th>\n",
                            "      <td>0</td>\n",
                            "      <td>26</td>\n",
                            "      <td>src/main/java/org/springframework/samples/petc...</td>\n",
                            "      <td>2017-12-25 01:27:16</td>\n",
                            "      <td>jpa</td>\n",
                            "    </tr>\n",
                            "  </tbody>\n",
                            "</table>\n",
                            "</div>"
                        ],
                        "text/plain": [
                            "     additions  deletions                                               file  \\\n",
                            "0           19          0  src/main/java/org/springframework/samples/petc...   \n",
                            "1           55          0  src/main/java/org/springframework/samples/petc...   \n",
                            "2           29          0  src/main/java/org/springframework/samples/petc...   \n",
                            "32           0         47  src/main/java/org/springframework/samples/petc...   \n",
                            "123          0         26  src/main/java/org/springframework/samples/petc...   \n",
                            "\n",
                            "              timestamp tech  \n",
                            "0   2017-12-31 19:41:29  jpa  \n",
                            "1   2017-12-30 12:48:20  jpa  \n",
                            "2   2017-12-30 12:48:20  jpa  \n",
                            "32  2017-12-29 15:28:42  jpa  \n",
                            "123 2017-12-25 01:27:16  jpa  "
                        ]
                    },
                    "execution_count": null,
                    "metadata": {},
                    "output_type": "execute_result"
                }
            ],
            "source": [
                "log['tech'] = log['file'].str.extract(\"/(jpa|jdbc)/\")\n",
                "log = log.dropna()\n",
                "log.head()"
            ]
        },
        {
            "cell_type": "markdown",
            "metadata": {},
            "source": [
                "### Step 4: Estimate the lines of code"
            ]
        },
        {
            "cell_type": "code",
            "execution_count": null,
            "metadata": {
                "tags": [
                    "delete"
                ]
            },
            "outputs": [],
            "source": []
        },
        {
            "cell_type": "markdown",
            "metadata": {
                "heading_collapsed": true
            },
            "source": [
                "###### <span style=\"color:green;\">SOLUTION <small>(Click the arrow on the left side if a hint is needed)</small></span>"
            ]
        },
        {
            "cell_type": "code",
            "execution_count": null,
            "metadata": {
                "tags": [],
                "deletable": false,
                "editable": false,
                "hidden": true,
                "run_control": {
                    "frozen": true
                }
            },
            "outputs": [
                {
                    "data": {
                        "text/html": [
                            "<div>\n",
                            "<style scoped>\n",
                            "    .dataframe tbody tr th:only-of-type {\n",
                            "        vertical-align: middle;\n",
                            "    }\n",
                            "\n",
                            "    .dataframe tbody tr th {\n",
                            "        vertical-align: top;\n",
                            "    }\n",
                            "\n",
                            "    .dataframe thead th {\n",
                            "        text-align: right;\n",
                            "    }\n",
                            "</style>\n",
                            "<table border=\"1\" class=\"dataframe\">\n",
                            "  <thead>\n",
                            "    <tr style=\"text-align: right;\">\n",
                            "      <th></th>\n",
                            "      <th>additions</th>\n",
                            "      <th>deletions</th>\n",
                            "      <th>file</th>\n",
                            "      <th>timestamp</th>\n",
                            "      <th>tech</th>\n",
                            "      <th>lines</th>\n",
                            "    </tr>\n",
                            "  </thead>\n",
                            "  <tbody>\n",
                            "    <tr>\n",
                            "      <th>0</th>\n",
                            "      <td>19</td>\n",
                            "      <td>0</td>\n",
                            "      <td>src/main/java/org/springframework/samples/petc...</td>\n",
                            "      <td>2017-12-31 19:41:29</td>\n",
                            "      <td>jpa</td>\n",
                            "      <td>19</td>\n",
                            "    </tr>\n",
                            "    <tr>\n",
                            "      <th>1</th>\n",
                            "      <td>55</td>\n",
                            "      <td>0</td>\n",
                            "      <td>src/main/java/org/springframework/samples/petc...</td>\n",
                            "      <td>2017-12-30 12:48:20</td>\n",
                            "      <td>jpa</td>\n",
                            "      <td>55</td>\n",
                            "    </tr>\n",
                            "    <tr>\n",
                            "      <th>2</th>\n",
                            "      <td>29</td>\n",
                            "      <td>0</td>\n",
                            "      <td>src/main/java/org/springframework/samples/petc...</td>\n",
                            "      <td>2017-12-30 12:48:20</td>\n",
                            "      <td>jpa</td>\n",
                            "      <td>29</td>\n",
                            "    </tr>\n",
                            "    <tr>\n",
                            "      <th>32</th>\n",
                            "      <td>0</td>\n",
                            "      <td>47</td>\n",
                            "      <td>src/main/java/org/springframework/samples/petc...</td>\n",
                            "      <td>2017-12-29 15:28:42</td>\n",
                            "      <td>jpa</td>\n",
                            "      <td>-47</td>\n",
                            "    </tr>\n",
                            "    <tr>\n",
                            "      <th>123</th>\n",
                            "      <td>0</td>\n",
                            "      <td>26</td>\n",
                            "      <td>src/main/java/org/springframework/samples/petc...</td>\n",
                            "      <td>2017-12-25 01:27:16</td>\n",
                            "      <td>jpa</td>\n",
                            "      <td>-26</td>\n",
                            "    </tr>\n",
                            "  </tbody>\n",
                            "</table>\n",
                            "</div>"
                        ],
                        "text/plain": [
                            "     additions  deletions                                               file  \\\n",
                            "0           19          0  src/main/java/org/springframework/samples/petc...   \n",
                            "1           55          0  src/main/java/org/springframework/samples/petc...   \n",
                            "2           29          0  src/main/java/org/springframework/samples/petc...   \n",
                            "32           0         47  src/main/java/org/springframework/samples/petc...   \n",
                            "123          0         26  src/main/java/org/springframework/samples/petc...   \n",
                            "\n",
                            "              timestamp tech  lines  \n",
                            "0   2017-12-31 19:41:29  jpa     19  \n",
                            "1   2017-12-30 12:48:20  jpa     55  \n",
                            "2   2017-12-30 12:48:20  jpa     29  \n",
                            "32  2017-12-29 15:28:42  jpa    -47  \n",
                            "123 2017-12-25 01:27:16  jpa    -26  "
                        ]
                    },
                    "execution_count": null,
                    "metadata": {},
                    "output_type": "execute_result"
                }
            ],
            "source": [
                "log['lines'] = log['additions'] - log['deletions']\n",
                "log.head()"
            ]
        },
        {
            "cell_type": "markdown",
            "metadata": {},
            "source": [
                "### Step 5: Track the progress over time\n",
                "Hint: Sum up the lines of code along the timestamp and the used technology."
            ]
        },
        {
            "cell_type": "code",
            "execution_count": null,
            "metadata": {
                "tags": [
                    "delete"
                ]
            },
            "outputs": [],
            "source": []
        },
        {
            "cell_type": "markdown",
            "metadata": {
                "heading_collapsed": true
            },
            "source": [
                "###### <span style=\"color:green;\">SOLUTION <small>(Click the arrow on the left side if a hint is needed)</small></span>"
            ]
        },
        {
            "cell_type": "code",
            "execution_count": null,
            "metadata": {
                "tags": [],
                "deletable": false,
                "editable": false,
                "hidden": true,
                "run_control": {
                    "frozen": true
                }
            },
            "outputs": [
                {
                    "data": {
                        "text/plain": [
                            "timestamp            tech\n",
                            "2013-05-15 03:35:33  jdbc    250\n",
                            "2013-05-16 02:15:44  jdbc     50\n",
                            "2013-05-17 15:12:26  jdbc     78\n",
                            "2013-05-24 05:52:31  jdbc    142\n",
                            "2013-05-28 08:15:35  jdbc    123\n",
                            "Name: lines, dtype: int64"
                        ]
                    },
                    "execution_count": null,
                    "metadata": {},
                    "output_type": "execute_result"
                }
            ],
            "source": [
                "log_timed = log.groupby(['timestamp', 'tech']).lines.sum()\n",
                "log_timed.head()"
            ]
        },
        {
            "cell_type": "markdown",
            "metadata": {},
            "source": [
                "### Step 6: List the progress of the tech replacement side by side\n",
                "Hint: Unstack the dataframe first"
            ]
        },
        {
            "cell_type": "code",
            "execution_count": null,
            "metadata": {
                "tags": [
                    "delete"
                ]
            },
            "outputs": [],
            "source": []
        },
        {
            "cell_type": "markdown",
            "metadata": {
                "heading_collapsed": true
            },
            "source": [
                "###### <span style=\"color:green;\">SOLUTION <small>(Click the arrow on the left side if a hint is needed)</small></span>"
            ]
        },
        {
            "cell_type": "code",
            "execution_count": null,
            "metadata": {
                "tags": [],
                "deletable": false,
                "editable": false,
                "hidden": true,
                "run_control": {
                    "frozen": true
                }
            },
            "outputs": [
                {
                    "data": {
                        "text/html": [
                            "<div>\n",
                            "<style scoped>\n",
                            "    .dataframe tbody tr th:only-of-type {\n",
                            "        vertical-align: middle;\n",
                            "    }\n",
                            "\n",
                            "    .dataframe tbody tr th {\n",
                            "        vertical-align: top;\n",
                            "    }\n",
                            "\n",
                            "    .dataframe thead th {\n",
                            "        text-align: right;\n",
                            "    }\n",
                            "</style>\n",
                            "<table border=\"1\" class=\"dataframe\">\n",
                            "  <thead>\n",
                            "    <tr style=\"text-align: right;\">\n",
                            "      <th>tech</th>\n",
                            "      <th>jdbc</th>\n",
                            "      <th>jpa</th>\n",
                            "    </tr>\n",
                            "    <tr>\n",
                            "      <th>timestamp</th>\n",
                            "      <th></th>\n",
                            "      <th></th>\n",
                            "    </tr>\n",
                            "  </thead>\n",
                            "  <tbody>\n",
                            "    <tr>\n",
                            "      <th>2013-05-15 03:35:33</th>\n",
                            "      <td>250.0</td>\n",
                            "      <td>0.0</td>\n",
                            "    </tr>\n",
                            "    <tr>\n",
                            "      <th>2013-05-16 02:15:44</th>\n",
                            "      <td>300.0</td>\n",
                            "      <td>0.0</td>\n",
                            "    </tr>\n",
                            "    <tr>\n",
                            "      <th>2013-05-17 15:12:26</th>\n",
                            "      <td>378.0</td>\n",
                            "      <td>0.0</td>\n",
                            "    </tr>\n",
                            "    <tr>\n",
                            "      <th>2013-05-24 05:52:31</th>\n",
                            "      <td>520.0</td>\n",
                            "      <td>0.0</td>\n",
                            "    </tr>\n",
                            "    <tr>\n",
                            "      <th>2013-05-28 08:15:35</th>\n",
                            "      <td>643.0</td>\n",
                            "      <td>0.0</td>\n",
                            "    </tr>\n",
                            "  </tbody>\n",
                            "</table>\n",
                            "</div>"
                        ],
                        "text/plain": [
                            "tech                  jdbc  jpa\n",
                            "timestamp                      \n",
                            "2013-05-15 03:35:33  250.0  0.0\n",
                            "2013-05-16 02:15:44  300.0  0.0\n",
                            "2013-05-17 15:12:26  378.0  0.0\n",
                            "2013-05-24 05:52:31  520.0  0.0\n",
                            "2013-05-28 08:15:35  643.0  0.0"
                        ]
                    },
                    "execution_count": null,
                    "metadata": {},
                    "output_type": "execute_result"
                }
            ],
            "source": [
                "log_progress = log_timed.unstack().fillna(0).cumsum()\n",
                "log_progress.head()"
            ]
        },
        {
            "cell_type": "markdown",
            "metadata": {},
            "source": [
                "### Step 7: Visualize the progress of the replacement"
            ]
        },
        {
            "cell_type": "code",
            "execution_count": null,
            "metadata": {
                "tags": [
                    "delete"
                ]
            },
            "outputs": [],
            "source": []
        },
        {
            "cell_type": "markdown",
            "metadata": {
                "heading_collapsed": true
            },
            "source": [
                "###### <span style=\"color:green;\">SOLUTION <small>(Click the arrow on the left side if a hint is needed)</small></span>"
            ]
        },
        {
            "cell_type": "code",
            "execution_count": null,
            "metadata": {
                "tags": [],
                "deletable": false,
                "editable": false,
                "hidden": true,
                "run_control": {
                    "frozen": true
                }
            },
            "outputs": [
                {
                    "data": {
                        "image/png": "[encoded data removed]",
                        "text/plain": [
                            "<Figure size 1080x576 with 1 Axes>"
                        ]
                    },
                    "metadata": {
                        "image/png": {
                            "height": 449,
                            "width": 892
                        },
                        "needs_background": "light"
                    },
                    "output_type": "display_data"
                }
            ],
            "source": [
                "%matplotlib inline\n",
                "log_progress.plot(figsize=[15,8]);"
            ]
        },
        {
            "cell_type": "markdown",
            "metadata": {},
            "source": [
                "### Step 8: What are your conclusions? Discuss!"
            ]
        }
    ],
    "metadata": {
        "kernelspec": {
            "display_name": "Python 3",
            "language": "python",
            "name": "python3"
        },
        "language_info": {
            "codemirror_mode": {
                "name": "ipython",
                "version": 3
            },
            "file_extension": ".py",
            "mimetype": "text/x-python",
            "name": "python",
            "nbconvert_exporter": "python",
            "pygments_lexer": "ipython3",
            "version": "3.6.4"
        }
    },
    "nbformat": 4,
    "nbformat_minor": 2
}
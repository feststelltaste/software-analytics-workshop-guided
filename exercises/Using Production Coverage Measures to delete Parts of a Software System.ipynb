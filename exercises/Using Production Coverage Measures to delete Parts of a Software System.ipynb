{
    "cells": [
        {
            "cell_type": "markdown",
            "metadata": {},
            "source": [
                "# Using Production Coverage Measures to delete Parts of a Software System"
            ]
        },
        {
            "cell_type": "markdown",
            "metadata": {},
            "source": [
                "## Exercise\n",
                "\n",
                "_Level: Easy_\n",
                "\n",
                "### Background\n",
                "\n",
                "Developers of the Java application \"Spring PetClinic\" said, that there would be much code that isn't used at all. \n",
                "\n",
                "### Your Task\n",
                "\n",
                "Before migrating the application to the new platform, an analysis should find out, which parts of the system are still in use and which are not (and may be deleted safely).\n",
                "\n",
                "\n",
                "### Your Approach?\n",
                "\n",
                "Write down your approach in the Software Analytics Canvas!"
            ]
        },
        {
            "cell_type": "markdown",
            "metadata": {},
            "source": [
                "## The Dataset\n",
                "\n",
                "To understand how much code isn't used, we recorded the executed code in production with the coverage tool [JaCoCo](http://www.jacoco.org/). The measurement took place between 21st Oct 2017 and 27st Oct 2017. The results were exported into a CSV file using the JaCoCo command line tool with the following command:\n",
                "\n",
                "```bash\n",
                "java -jar jacococli.jar report \"C:\\Temp\\jacoco.exec\" --classfiles \\\n",
                "C:\\dev\\repos\\spring-petclinic\\target\\classes --csv jacoco.csv\n",
                "```\n",
                "\n",
                "The CSV file `../datasets/jacoco_production_measure.gz` contains all lines of code that were passed through during the measurement's time span. It shows a subset of the dataset created above with just the relevant coluns:\n",
                "\n",
                "* `PACKAGE`: The package name of the Java source code file\n",
                "* `CLASS`: The name of the Java class\n",
                "* `LINE_COVERED`: The number of lines that were executed\n",
                "* `LINE_MISSED`: The number of lines that weren't executed\n",
                "\n",
                "Here you can find the first 10 entries from the dataset (with the columns from above:\n",
                "\n",
                "<p>\n",
                "<small>\n",
                "<code>PACKAGE,CLASS,LINE_MISSED,LINE_COVERED\n",
                "org.springframework.samples.petclinic,PetclinicInitializer,0,24\n",
                "org.springframework.samples.petclinic.model,NamedEntity,1,4\n",
                "org.springframework.samples.petclinic.model,Specialty,0,1\n",
                "org.springframework.samples.petclinic.model,PetType,0,1\n",
                "org.springframework.samples.petclinic.model,Vets,4,0\n",
                "org.springframework.samples.petclinic.model,Visit,0,12\n",
                "org.springframework.samples.petclinic.model,BaseEntity,0,5\n",
                "org.springframework.samples.petclinic.model,Person,0,7\n",
                "org.springframework.samples.petclinic.model,Owner,14,26\n",
                "</code>\n",
                "</small>\n",
                "</p>"
            ]
        },
        {
            "cell_type": "markdown",
            "metadata": {},
            "source": [
                "Hint 1: You need to add an additional `LINES` column to be able to calculate the ratio between covered and missed lines later on.  \n",
                "Hint 2: It was stated that mayby whole packages wouldn't be needed anymore and that they could be safely removed. "
            ]
        },
        {
            "cell_type": "markdown",
            "metadata": {},
            "source": [
                "## Your Analysis"
            ]
        },
        {
            "cell_type": "markdown",
            "metadata": {},
            "source": [
                "### Step 1: Load the dataset"
            ]
        },
        {
            "cell_type": "code",
            "execution_count": null,
            "metadata": {
                "tags": [
                    "delete"
                ]
            },
            "outputs": [],
            "source": []
        },
        {
            "cell_type": "markdown",
            "metadata": {
                "heading_collapsed": true
            },
            "source": [
                "###### <span style=\"color:green;\">SOLUTION <small>(Click the arrow on the left side if a hint is needed)</small></span>"
            ]
        },
        {
            "cell_type": "code",
            "execution_count": null,
            "metadata": {
                "tags": [],
                "deletable": false,
                "editable": false,
                "hidden": true,
                "run_control": {
                    "frozen": true
                }
            },
            "outputs": [
                {
                    "data": {
                        "text/html": [
                            "<div>\n",
                            "<style scoped>\n",
                            "    .dataframe tbody tr th:only-of-type {\n",
                            "        vertical-align: middle;\n",
                            "    }\n",
                            "\n",
                            "    .dataframe tbody tr th {\n",
                            "        vertical-align: top;\n",
                            "    }\n",
                            "\n",
                            "    .dataframe thead th {\n",
                            "        text-align: right;\n",
                            "    }\n",
                            "</style>\n",
                            "<table border=\"1\" class=\"dataframe\">\n",
                            "  <thead>\n",
                            "    <tr style=\"text-align: right;\">\n",
                            "      <th></th>\n",
                            "      <th>PACKAGE</th>\n",
                            "      <th>CLASS</th>\n",
                            "      <th>LINE_MISSED</th>\n",
                            "      <th>LINE_COVERED</th>\n",
                            "    </tr>\n",
                            "  </thead>\n",
                            "  <tbody>\n",
                            "    <tr>\n",
                            "      <th>0</th>\n",
                            "      <td>org.springframework.samples.petclinic</td>\n",
                            "      <td>PetclinicInitializer</td>\n",
                            "      <td>0</td>\n",
                            "      <td>24</td>\n",
                            "    </tr>\n",
                            "    <tr>\n",
                            "      <th>1</th>\n",
                            "      <td>org.springframework.samples.petclinic.model</td>\n",
                            "      <td>NamedEntity</td>\n",
                            "      <td>1</td>\n",
                            "      <td>4</td>\n",
                            "    </tr>\n",
                            "    <tr>\n",
                            "      <th>2</th>\n",
                            "      <td>org.springframework.samples.petclinic.model</td>\n",
                            "      <td>Specialty</td>\n",
                            "      <td>0</td>\n",
                            "      <td>1</td>\n",
                            "    </tr>\n",
                            "    <tr>\n",
                            "      <th>3</th>\n",
                            "      <td>org.springframework.samples.petclinic.model</td>\n",
                            "      <td>PetType</td>\n",
                            "      <td>0</td>\n",
                            "      <td>1</td>\n",
                            "    </tr>\n",
                            "    <tr>\n",
                            "      <th>4</th>\n",
                            "      <td>org.springframework.samples.petclinic.model</td>\n",
                            "      <td>Vets</td>\n",
                            "      <td>4</td>\n",
                            "      <td>0</td>\n",
                            "    </tr>\n",
                            "  </tbody>\n",
                            "</table>\n",
                            "</div>"
                        ],
                        "text/plain": [
                            "                                       PACKAGE                 CLASS  \\\n",
                            "0        org.springframework.samples.petclinic  PetclinicInitializer   \n",
                            "1  org.springframework.samples.petclinic.model           NamedEntity   \n",
                            "2  org.springframework.samples.petclinic.model             Specialty   \n",
                            "3  org.springframework.samples.petclinic.model               PetType   \n",
                            "4  org.springframework.samples.petclinic.model                  Vets   \n",
                            "\n",
                            "   LINE_MISSED  LINE_COVERED  \n",
                            "0            0            24  \n",
                            "1            1             4  \n",
                            "2            0             1  \n",
                            "3            0             1  \n",
                            "4            4             0  "
                        ]
                    },
                    "execution_count": null,
                    "metadata": {},
                    "output_type": "execute_result"
                }
            ],
            "source": [
                "import pandas as pd\n",
                "\n",
                "coverage = pd.read_csv(\"../datasets/jacoco_production_measure.gz\")\n",
                "coverage.head()"
            ]
        },
        {
            "cell_type": "markdown",
            "metadata": {},
            "source": [
                "### Step 2: Data preparation\n",
                "Create additional columns that how all lines of a class and the ratio of the covered lines to all lines of a class,"
            ]
        },
        {
            "cell_type": "code",
            "execution_count": null,
            "metadata": {
                "tags": [
                    "delete"
                ]
            },
            "outputs": [],
            "source": []
        },
        {
            "cell_type": "markdown",
            "metadata": {
                "heading_collapsed": true
            },
            "source": [
                "###### <span style=\"color:green;\">SOLUTION <small>(Click the arrow on the left side if a hint is needed)</small></span>"
            ]
        },
        {
            "cell_type": "code",
            "execution_count": null,
            "metadata": {
                "tags": [],
                "deletable": false,
                "editable": false,
                "hidden": true,
                "run_control": {
                    "frozen": true
                }
            },
            "outputs": [
                {
                    "data": {
                        "text/html": [
                            "<div>\n",
                            "<style scoped>\n",
                            "    .dataframe tbody tr th:only-of-type {\n",
                            "        vertical-align: middle;\n",
                            "    }\n",
                            "\n",
                            "    .dataframe tbody tr th {\n",
                            "        vertical-align: top;\n",
                            "    }\n",
                            "\n",
                            "    .dataframe thead th {\n",
                            "        text-align: right;\n",
                            "    }\n",
                            "</style>\n",
                            "<table border=\"1\" class=\"dataframe\">\n",
                            "  <thead>\n",
                            "    <tr style=\"text-align: right;\">\n",
                            "      <th></th>\n",
                            "      <th>PACKAGE</th>\n",
                            "      <th>CLASS</th>\n",
                            "      <th>LINE_MISSED</th>\n",
                            "      <th>LINE_COVERED</th>\n",
                            "      <th>lines</th>\n",
                            "      <th>ratio</th>\n",
                            "    </tr>\n",
                            "  </thead>\n",
                            "  <tbody>\n",
                            "    <tr>\n",
                            "      <th>0</th>\n",
                            "      <td>org.springframework.samples.petclinic</td>\n",
                            "      <td>PetclinicInitializer</td>\n",
                            "      <td>0</td>\n",
                            "      <td>24</td>\n",
                            "      <td>24</td>\n",
                            "      <td>1.0</td>\n",
                            "    </tr>\n",
                            "    <tr>\n",
                            "      <th>1</th>\n",
                            "      <td>org.springframework.samples.petclinic.model</td>\n",
                            "      <td>NamedEntity</td>\n",
                            "      <td>1</td>\n",
                            "      <td>4</td>\n",
                            "      <td>5</td>\n",
                            "      <td>0.8</td>\n",
                            "    </tr>\n",
                            "    <tr>\n",
                            "      <th>2</th>\n",
                            "      <td>org.springframework.samples.petclinic.model</td>\n",
                            "      <td>Specialty</td>\n",
                            "      <td>0</td>\n",
                            "      <td>1</td>\n",
                            "      <td>1</td>\n",
                            "      <td>1.0</td>\n",
                            "    </tr>\n",
                            "    <tr>\n",
                            "      <th>3</th>\n",
                            "      <td>org.springframework.samples.petclinic.model</td>\n",
                            "      <td>PetType</td>\n",
                            "      <td>0</td>\n",
                            "      <td>1</td>\n",
                            "      <td>1</td>\n",
                            "      <td>1.0</td>\n",
                            "    </tr>\n",
                            "    <tr>\n",
                            "      <th>4</th>\n",
                            "      <td>org.springframework.samples.petclinic.model</td>\n",
                            "      <td>Vets</td>\n",
                            "      <td>4</td>\n",
                            "      <td>0</td>\n",
                            "      <td>4</td>\n",
                            "      <td>0.0</td>\n",
                            "    </tr>\n",
                            "  </tbody>\n",
                            "</table>\n",
                            "</div>"
                        ],
                        "text/plain": [
                            "                                       PACKAGE                 CLASS  \\\n",
                            "0        org.springframework.samples.petclinic  PetclinicInitializer   \n",
                            "1  org.springframework.samples.petclinic.model           NamedEntity   \n",
                            "2  org.springframework.samples.petclinic.model             Specialty   \n",
                            "3  org.springframework.samples.petclinic.model               PetType   \n",
                            "4  org.springframework.samples.petclinic.model                  Vets   \n",
                            "\n",
                            "   LINE_MISSED  LINE_COVERED  lines  ratio  \n",
                            "0            0            24     24    1.0  \n",
                            "1            1             4      5    0.8  \n",
                            "2            0             1      1    1.0  \n",
                            "3            0             1      1    1.0  \n",
                            "4            4             0      4    0.0  "
                        ]
                    },
                    "execution_count": null,
                    "metadata": {},
                    "output_type": "execute_result"
                }
            ],
            "source": [
                "coverage['lines'] = coverage.LINE_COVERED + coverage.LINE_MISSED\n",
                "coverage['ratio'] = coverage.LINE_COVERED / coverage.lines\n",
                "coverage.head()"
            ]
        },
        {
            "cell_type": "markdown",
            "metadata": {},
            "source": [
                "### Step 3: Modelling\n",
                "Calculate the mean coverage ratio per package."
            ]
        },
        {
            "cell_type": "code",
            "execution_count": null,
            "metadata": {
                "tags": [
                    "delete"
                ]
            },
            "outputs": [],
            "source": []
        },
        {
            "cell_type": "markdown",
            "metadata": {
                "heading_collapsed": true
            },
            "source": [
                "###### <span style=\"color:green;\">SOLUTION <small>(Click the arrow on the left side if a hint is needed)</small></span>"
            ]
        },
        {
            "cell_type": "code",
            "execution_count": null,
            "metadata": {
                "tags": [],
                "deletable": false,
                "editable": false,
                "hidden": true,
                "run_control": {
                    "frozen": true
                }
            },
            "outputs": [
                {
                    "data": {
                        "text/plain": [
                            "PACKAGE\n",
                            "org.springframework.samples.petclinic                    1.000000\n",
                            "org.springframework.samples.petclinic.model              0.739048\n",
                            "org.springframework.samples.petclinic.repository.jdbc    0.000000\n",
                            "org.springframework.samples.petclinic.repository.jpa     0.691558\n",
                            "org.springframework.samples.petclinic.service            0.888889\n",
                            "org.springframework.samples.petclinic.util               0.270833\n",
                            "org.springframework.samples.petclinic.web                0.639809\n",
                            "Name: ratio, dtype: float64"
                        ]
                    },
                    "execution_count": null,
                    "metadata": {},
                    "output_type": "execute_result"
                }
            ],
            "source": [
                "mean_coverage = coverage.groupby(\"PACKAGE\")['ratio'].mean()\n",
                "mean_coverage"
            ]
        },
        {
            "cell_type": "markdown",
            "metadata": {},
            "source": [
                "### Step 4: Visualization\n",
                "Create a horizontal line chart that visualizes the coverage ratios for each package."
            ]
        },
        {
            "cell_type": "code",
            "execution_count": null,
            "metadata": {
                "tags": [
                    "delete"
                ]
            },
            "outputs": [],
            "source": []
        },
        {
            "cell_type": "markdown",
            "metadata": {
                "heading_collapsed": true
            },
            "source": [
                "###### <span style=\"color:green;\">SOLUTION <small>(Click the arrow on the left side if a hint is needed)</small></span>"
            ]
        },
        {
            "cell_type": "code",
            "execution_count": null,
            "metadata": {
                "tags": [],
                "deletable": false,
                "editable": false,
                "hidden": true,
                "run_control": {
                    "frozen": true
                }
            },
            "outputs": [
                {
                    "data": {
                        "image/png": "[encoded data removed]",
                        "text/plain": [
                            "<Figure size 432x288 with 1 Axes>"
                        ]
                    },
                    "metadata": {
                        "image/png": {
                            "height": 250,
                            "width": 645
                        },
                        "needs_background": "light"
                    },
                    "output_type": "display_data"
                }
            ],
            "source": [
                "%matplotlib inline\n",
                "mean_coverage.plot(kind='barh');"
            ]
        }
    ],
    "metadata": {
        "hide_input": false,
        "kernelspec": {
            "display_name": "Python 3",
            "language": "python",
            "name": "python3"
        },
        "language_info": {
            "codemirror_mode": {
                "name": "ipython",
                "version": 3
            },
            "file_extension": ".py",
            "mimetype": "text/x-python",
            "name": "python",
            "nbconvert_exporter": "python",
            "pygments_lexer": "ipython3",
            "version": "3.6.4"
        },
        "toc": {
            "nav_menu": {},
            "number_sections": true,
            "sideBar": true,
            "skip_h1_title": false,
            "toc_cell": false,
            "toc_position": {},
            "toc_section_display": "block",
            "toc_window_display": false
        }
    },
    "nbformat": 4,
    "nbformat_minor": 2
}
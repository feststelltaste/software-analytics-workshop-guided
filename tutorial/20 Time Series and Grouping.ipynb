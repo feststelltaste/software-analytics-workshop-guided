{
    "cells": [
        {
            "cell_type": "markdown",
            "metadata": {},
            "source": [
                "# Software Analytics Mini Tutorial Part III: Working with Time Series"
            ]
        },
        {
            "cell_type": "markdown",
            "metadata": {},
            "source": [
                "## Introduction\n",
                "This series of notebooks are a simple mini tutorial to introduce you to the basic functionality of Jupyter, Python, pandas and matplotlib. The comprehensive explanations should guide you to be able to analyze software data on your own. Therefore, the examples is chosen in such a way that we come across the typical methods in a data analysis. Have fun!\n",
                "\n",
                "*This is part III: The basic of the time series analysis with pandas.*"
            ]
        },
        {
            "cell_type": "markdown",
            "metadata": {},
            "source": [
                "## The analysis goal\n",
                "In this mini tutorial, we want to find out for the Linux kernel software project \n",
                "* Question 1: At what hour of the day the commits are made?\n",
                "* Question 2: At which weekday commits occur?\n",
                "* Question 3: How the daily progress of the development was?"
            ]
        },
        {
            "cell_type": "markdown",
            "metadata": {},
            "source": [
                "## The dataset\n",
                "\n",
                "#### Import dataset\n",
                "1. import pandas\n",
                "1. read in `../datasets/git_log_linux_authors_timestamps.gz` into `log`.\n",
                "1. display the first five entries"
            ]
        },
        {
            "cell_type": "code",
            "execution_count": null,
            "metadata": {
                "tags": [
                    "delete"
                ]
            },
            "outputs": [],
            "source": []
        },
        {
            "cell_type": "markdown",
            "metadata": {
                "heading_collapsed": true
            },
            "source": [
                "###### <span style=\"color:green;\">SOLUTION <small>(Click the arrow on the left side if a hint is needed)</small></span>"
            ]
        },
        {
            "cell_type": "code",
            "execution_count": null,
            "metadata": {
                "tags": [],
                "deletable": false,
                "editable": false,
                "hidden": true,
                "run_control": {
                    "frozen": true
                }
            },
            "outputs": [
                {
                    "data": {
                        "text/html": [
                            "<div>\n",
                            "<style scoped>\n",
                            "    .dataframe tbody tr th:only-of-type {\n",
                            "        vertical-align: middle;\n",
                            "    }\n",
                            "\n",
                            "    .dataframe tbody tr th {\n",
                            "        vertical-align: top;\n",
                            "    }\n",
                            "\n",
                            "    .dataframe thead th {\n",
                            "        text-align: right;\n",
                            "    }\n",
                            "</style>\n",
                            "<table border=\"1\" class=\"dataframe\">\n",
                            "  <thead>\n",
                            "    <tr style=\"text-align: right;\">\n",
                            "      <th></th>\n",
                            "      <th>timestamp</th>\n",
                            "      <th>author</th>\n",
                            "    </tr>\n",
                            "  </thead>\n",
                            "  <tbody>\n",
                            "    <tr>\n",
                            "      <th>0</th>\n",
                            "      <td>2017-12-31 14:47:43</td>\n",
                            "      <td>Linus Torvalds</td>\n",
                            "    </tr>\n",
                            "    <tr>\n",
                            "      <th>1</th>\n",
                            "      <td>2017-12-31 13:13:56</td>\n",
                            "      <td>Linus Torvalds</td>\n",
                            "    </tr>\n",
                            "    <tr>\n",
                            "      <th>2</th>\n",
                            "      <td>2017-12-31 13:03:05</td>\n",
                            "      <td>Linus Torvalds</td>\n",
                            "    </tr>\n",
                            "    <tr>\n",
                            "      <th>3</th>\n",
                            "      <td>2017-12-31 12:30:34</td>\n",
                            "      <td>Linus Torvalds</td>\n",
                            "    </tr>\n",
                            "    <tr>\n",
                            "      <th>4</th>\n",
                            "      <td>2017-12-31 12:29:02</td>\n",
                            "      <td>Linus Torvalds</td>\n",
                            "    </tr>\n",
                            "  </tbody>\n",
                            "</table>\n",
                            "</div>"
                        ],
                        "text/plain": [
                            "             timestamp          author\n",
                            "0  2017-12-31 14:47:43  Linus Torvalds\n",
                            "1  2017-12-31 13:13:56  Linus Torvalds\n",
                            "2  2017-12-31 13:03:05  Linus Torvalds\n",
                            "3  2017-12-31 12:30:34  Linus Torvalds\n",
                            "4  2017-12-31 12:29:02  Linus Torvalds"
                        ]
                    },
                    "execution_count": null,
                    "metadata": {},
                    "output_type": "execute_result"
                }
            ],
            "source": [
                "import pandas as pd\n",
                "log = pd.read_csv(\"../datasets/git_log_linux_authors_timestamps.gz\")\n",
                "log.head()"
            ]
        },
        {
            "cell_type": "markdown",
            "metadata": {},
            "source": [
                "## Working with time-based data\n",
                "Now let's look at the timestamp information."
            ]
        },
        {
            "cell_type": "markdown",
            "metadata": {},
            "source": [
                "### Question 1: Daytime of Commits\n",
                "\n",
                "First, we want to find out at what time of day the developers commit."
            ]
        },
        {
            "cell_type": "markdown",
            "metadata": {},
            "source": [
                "#### View timestamp column\n",
                "1. display the first five entries of the series `timestamp`."
            ]
        },
        {
            "cell_type": "code",
            "execution_count": null,
            "metadata": {
                "tags": [
                    "delete"
                ]
            },
            "outputs": [],
            "source": []
        },
        {
            "cell_type": "markdown",
            "metadata": {
                "heading_collapsed": true
            },
            "source": [
                "###### <span style=\"color:green;\">SOLUTION <small>(Click the arrow on the left side if a hint is needed)</small></span>"
            ]
        },
        {
            "cell_type": "code",
            "execution_count": null,
            "metadata": {
                "tags": [],
                "deletable": false,
                "editable": false,
                "hidden": true,
                "run_control": {
                    "frozen": true
                }
            },
            "outputs": [
                {
                    "data": {
                        "text/plain": [
                            "0    2017-12-31 14:47:43\n",
                            "1    2017-12-31 13:13:56\n",
                            "2    2017-12-31 13:03:05\n",
                            "3    2017-12-31 12:30:34\n",
                            "4    2017-12-31 12:29:02\n",
                            "Name: timestamp, dtype: object"
                        ]
                    },
                    "execution_count": null,
                    "metadata": {},
                    "output_type": "execute_result"
                }
            ],
            "source": [
                "log.timestamp.head()"
            ]
        },
        {
            "cell_type": "markdown",
            "metadata": {},
            "source": [
                "#### Convert to the Timestamp data type\n",
                "\n",
                "The data type of the `timestamp` series is still* `object` (because it's plain text from the CSV file). To work with the time capabilities of pandas, we need to convert this data to pandas', we need a `Timestamp` data type.\n",
                "\n",
                "\n",
                "1. use the pandas function `pd.to_datetime` to convert the column `timestamp` into a real date data type.\n",
                "1. write the result into the new variable `ts` (abbreviation for \"timestamp\")*.\n",
                "1. output the first five entries.\n",
                "\n",
                "**Note: We could have also overridden the `timestamp` series. But to show some pandas functionality, we use a separate Series.*"
            ]
        },
        {
            "cell_type": "code",
            "execution_count": null,
            "metadata": {
                "tags": [
                    "delete"
                ]
            },
            "outputs": [],
            "source": []
        },
        {
            "cell_type": "markdown",
            "metadata": {
                "heading_collapsed": true
            },
            "source": [
                "###### <span style=\"color:green;\">SOLUTION <small>(Click the arrow on the left side if a hint is needed)</small></span>"
            ]
        },
        {
            "cell_type": "code",
            "execution_count": null,
            "metadata": {
                "tags": [],
                "deletable": false,
                "editable": false,
                "hidden": true,
                "run_control": {
                    "frozen": true
                }
            },
            "outputs": [
                {
                    "data": {
                        "text/plain": [
                            "0   2017-12-31 14:47:43\n",
                            "1   2017-12-31 13:13:56\n",
                            "2   2017-12-31 13:03:05\n",
                            "3   2017-12-31 12:30:34\n",
                            "4   2017-12-31 12:29:02\n",
                            "Name: timestamp, dtype: datetime64[ns]"
                        ]
                    },
                    "execution_count": null,
                    "metadata": {},
                    "output_type": "execute_result"
                }
            ],
            "source": [
                "ts = pd.to_datetime(log.timestamp)\n",
                "ts.head()"
            ]
        },
        {
            "cell_type": "markdown",
            "metadata": {},
            "source": [
                "##### Discussion\n",
                "* Was the conversion successful? \n",
                "* What could possibly happen during the conversion?\n",
                "* How could you treat issues that occur?"
            ]
        },
        {
            "cell_type": "markdown",
            "metadata": {
                "heading_collapsed": true
            },
            "source": [
                "###### <span style=\"color:green;\">SOLUTION <small>(Click the arrow on the left side if a hint is needed)</small></span>"
            ]
        },
        {
            "cell_type": "markdown",
            "metadata": {
                "tags": [
                    "delete"
                ]
            },
            "source": [
                "*Possible answers:*\n",
                "\n",
                "* Conversion was successfull because `dtype` is now `datetime64[ns]`\n",
                "\n",
                "* Possible issues:\n",
                " * There could be data in the column that's not a date format (filter out this data or use `errors` parameter with value `coerce` to convert invalid data to `Nan`)\n",
                " * There could be an awkward date format (specify the date format manually)\n",
                " * There could only parts be needed\n",
                " * Conversion could take a long time (check if you just need a part of the data like the day instead of the additional time and a kind of data index with the help of the `Category` data types of pandas)"
            ]
        },
        {
            "cell_type": "markdown",
            "metadata": {},
            "source": [
                "#### Work with hourly data\n",
                "1. access the date object `dt` of the Series `ts`.\n",
                "2. inspect the hours of the `hour` property of the `dt` object.\n",
                "3. store the hours into a new Series `hour`"
            ]
        },
        {
            "cell_type": "code",
            "execution_count": null,
            "metadata": {
                "tags": [
                    "delete"
                ]
            },
            "outputs": [],
            "source": []
        },
        {
            "cell_type": "markdown",
            "metadata": {
                "heading_collapsed": true
            },
            "source": [
                "###### <span style=\"color:green;\">SOLUTION <small>(Click the arrow on the left side if a hint is needed)</small></span>"
            ]
        },
        {
            "cell_type": "code",
            "execution_count": null,
            "metadata": {
                "tags": [],
                "deletable": false,
                "editable": false,
                "hidden": true,
                "run_control": {
                    "frozen": true
                }
            },
            "outputs": [
                {
                    "data": {
                        "text/plain": [
                            "0    14\n",
                            "1    13\n",
                            "2    13\n",
                            "3    12\n",
                            "4    12\n",
                            "Name: timestamp, dtype: int64"
                        ]
                    },
                    "execution_count": null,
                    "metadata": {},
                    "output_type": "execute_result"
                }
            ],
            "source": [
                "hour = ts.dt.hour\n",
                "hour.head()"
            ]
        },
        {
            "cell_type": "markdown",
            "metadata": {},
            "source": [
                "#### Add a new Series to a DataFrame\n",
                "\n",
                "1. Add the `hour` Series to the existing `log` DataFrame with the syntax\n",
                "\n",
                "```python\n",
                "<DataFrame>['<new Series name>'] = <Series>\n",
                "```\n",
                "2. print out the first five entries of `log`."
            ]
        },
        {
            "cell_type": "code",
            "execution_count": null,
            "metadata": {
                "tags": [
                    "delete"
                ]
            },
            "outputs": [],
            "source": []
        },
        {
            "cell_type": "markdown",
            "metadata": {
                "heading_collapsed": true
            },
            "source": [
                "###### <span style=\"color:green;\">SOLUTION <small>(Click the arrow on the left side if a hint is needed)</small></span>"
            ]
        },
        {
            "cell_type": "code",
            "execution_count": null,
            "metadata": {
                "tags": [],
                "deletable": false,
                "editable": false,
                "hidden": true,
                "run_control": {
                    "frozen": true
                }
            },
            "outputs": [
                {
                    "data": {
                        "text/html": [
                            "<div>\n",
                            "<style scoped>\n",
                            "    .dataframe tbody tr th:only-of-type {\n",
                            "        vertical-align: middle;\n",
                            "    }\n",
                            "\n",
                            "    .dataframe tbody tr th {\n",
                            "        vertical-align: top;\n",
                            "    }\n",
                            "\n",
                            "    .dataframe thead th {\n",
                            "        text-align: right;\n",
                            "    }\n",
                            "</style>\n",
                            "<table border=\"1\" class=\"dataframe\">\n",
                            "  <thead>\n",
                            "    <tr style=\"text-align: right;\">\n",
                            "      <th></th>\n",
                            "      <th>timestamp</th>\n",
                            "      <th>author</th>\n",
                            "      <th>hour</th>\n",
                            "    </tr>\n",
                            "  </thead>\n",
                            "  <tbody>\n",
                            "    <tr>\n",
                            "      <th>0</th>\n",
                            "      <td>2017-12-31 14:47:43</td>\n",
                            "      <td>Linus Torvalds</td>\n",
                            "      <td>14</td>\n",
                            "    </tr>\n",
                            "    <tr>\n",
                            "      <th>1</th>\n",
                            "      <td>2017-12-31 13:13:56</td>\n",
                            "      <td>Linus Torvalds</td>\n",
                            "      <td>13</td>\n",
                            "    </tr>\n",
                            "    <tr>\n",
                            "      <th>2</th>\n",
                            "      <td>2017-12-31 13:03:05</td>\n",
                            "      <td>Linus Torvalds</td>\n",
                            "      <td>13</td>\n",
                            "    </tr>\n",
                            "    <tr>\n",
                            "      <th>3</th>\n",
                            "      <td>2017-12-31 12:30:34</td>\n",
                            "      <td>Linus Torvalds</td>\n",
                            "      <td>12</td>\n",
                            "    </tr>\n",
                            "    <tr>\n",
                            "      <th>4</th>\n",
                            "      <td>2017-12-31 12:29:02</td>\n",
                            "      <td>Linus Torvalds</td>\n",
                            "      <td>12</td>\n",
                            "    </tr>\n",
                            "  </tbody>\n",
                            "</table>\n",
                            "</div>"
                        ],
                        "text/plain": [
                            "             timestamp          author  hour\n",
                            "0  2017-12-31 14:47:43  Linus Torvalds    14\n",
                            "1  2017-12-31 13:13:56  Linus Torvalds    13\n",
                            "2  2017-12-31 13:03:05  Linus Torvalds    13\n",
                            "3  2017-12-31 12:30:34  Linus Torvalds    12\n",
                            "4  2017-12-31 12:29:02  Linus Torvalds    12"
                        ]
                    },
                    "execution_count": null,
                    "metadata": {},
                    "output_type": "execute_result"
                }
            ],
            "source": [
                "log['hour'] = hour\n",
                "log.head()"
            ]
        },
        {
            "cell_type": "markdown",
            "metadata": {},
            "source": [
                "#### Find out the favorite commit times\n",
                "1. sum up the number of commits (=rows) for each hour. Switch off the sorting with the parameter `sort=False` to keep the order of the hours.\n",
                "1. save the result in `commits_per_hour`\n",
                "1. display the first five entries"
            ]
        },
        {
            "cell_type": "code",
            "execution_count": null,
            "metadata": {
                "tags": [
                    "delete"
                ]
            },
            "outputs": [],
            "source": []
        },
        {
            "cell_type": "markdown",
            "metadata": {
                "heading_collapsed": true
            },
            "source": [
                "###### <span style=\"color:green;\">SOLUTION <small>(Click the arrow on the left side if a hint is needed)</small></span>"
            ]
        },
        {
            "cell_type": "code",
            "execution_count": null,
            "metadata": {
                "tags": [],
                "deletable": false,
                "editable": false,
                "hidden": true,
                "run_control": {
                    "frozen": true
                }
            },
            "outputs": [
                {
                    "data": {
                        "text/plain": [
                            "0    19533\n",
                            "1    15044\n",
                            "2    10420\n",
                            "3     7000\n",
                            "4     6068\n",
                            "Name: hour, dtype: int64"
                        ]
                    },
                    "execution_count": null,
                    "metadata": {},
                    "output_type": "execute_result"
                }
            ],
            "source": [
                "commits_per_hour = log.hour.value_counts(sort=False)\n",
                "commits_per_hour.head()"
            ]
        },
        {
            "cell_type": "markdown",
            "metadata": {},
            "source": [
                "#### Visualize the hourly commit result\n",
                "1. plot a bar chart of the hourly commit counts."
            ]
        },
        {
            "cell_type": "code",
            "execution_count": null,
            "metadata": {
                "tags": [
                    "delete"
                ]
            },
            "outputs": [],
            "source": []
        },
        {
            "cell_type": "markdown",
            "metadata": {
                "heading_collapsed": true
            },
            "source": [
                "###### <span style=\"color:green;\">SOLUTION <small>(Click the arrow on the left side if a hint is needed)</small></span>"
            ]
        },
        {
            "cell_type": "code",
            "execution_count": null,
            "metadata": {
                "tags": [],
                "deletable": false,
                "editable": false,
                "hidden": true,
                "run_control": {
                    "frozen": true
                }
            },
            "outputs": [
                {
                    "data": {
                        "image/png": "[encoded data removed]",
                        "text/plain": [
                            "<Figure size 432x288 with 1 Axes>"
                        ]
                    },
                    "metadata": {
                        "needs_background": "light"
                    },
                    "output_type": "display_data"
                }
            ],
            "source": [
                "%matplotlib inline\n",
                "commits_per_hour.plot.bar();"
            ]
        },
        {
            "cell_type": "markdown",
            "metadata": {},
            "source": [
                "#### Enhance the visualization\n",
                "\n",
                "We store the return object of the `bar()` function in the variable `ax`. This is an `Axes` object of the underlying plotting library `matplotlib`, through which we can customize additional properties of the plot.\n",
                "\n",
                "1. add the title \"Commits per Hour\" via `set_title(\"<titel name>\")`\n",
                "1. add the label \"Hour of Day\" of the X-axis with `set_xlabel(\"<X-axis label name>\")`\n",
                "1. add the label \"Number of Commits\" of the Y-axis with `set_ylabel(<\"Y-axis label name>\")`"
            ]
        },
        {
            "cell_type": "code",
            "execution_count": null,
            "metadata": {
                "tags": [
                    "delete"
                ]
            },
            "outputs": [],
            "source": []
        },
        {
            "cell_type": "markdown",
            "metadata": {
                "heading_collapsed": true
            },
            "source": [
                "###### <span style=\"color:green;\">SOLUTION <small>(Click the arrow on the left side if a hint is needed)</small></span>"
            ]
        },
        {
            "cell_type": "code",
            "execution_count": null,
            "metadata": {
                "tags": [],
                "deletable": false,
                "editable": false,
                "hidden": true,
                "run_control": {
                    "frozen": true
                }
            },
            "outputs": [
                {
                    "data": {
                        "image/png": "[encoded data removed]",
                        "text/plain": [
                            "<Figure size 432x288 with 1 Axes>"
                        ]
                    },
                    "metadata": {
                        "needs_background": "light"
                    },
                    "output_type": "display_data"
                }
            ],
            "source": [
                "ax = commits_per_hour.plot.bar()\n",
                "ax.set_title(\"Commits per Hour\")\n",
                "ax.set_xlabel(\"Hour of Day\")\n",
                "ax.set_ylabel(\"Number of Commits\");"
            ]
        },
        {
            "cell_type": "markdown",
            "metadata": {},
            "source": [
                "##### Discussion\n",
                "\n",
                "* What do you find interesting?\n",
                "* What could be differences compared to the commit distribution for software systems within a company?"
            ]
        },
        {
            "cell_type": "markdown",
            "metadata": {
                "heading_collapsed": true
            },
            "source": [
                "###### <span style=\"color:green;\">SOLUTION <small>(Click the arrow on the left side if a hint is needed)</small></span>"
            ]
        },
        {
            "cell_type": "markdown",
            "metadata": {
                "tags": [
                    "delete"
                ]
            },
            "source": [
                "*Possible Answers:*\n",
                "\n",
                "* We haven't considered a possible different commit behavior of the developers, but maybe it doesn't influence the result at all?"
            ]
        },
        {
            "cell_type": "markdown",
            "metadata": {},
            "source": [
                "### Question 2: Commits per weekday\n",
                "\n",
                "We can also analyze the commits per weekdays."
            ]
        },
        {
            "cell_type": "markdown",
            "metadata": {},
            "source": [
                "#### Retrieve the weekday number\n",
                "\n",
                "1. store the weekday number into an additional Series `weekday` in `log` by using the `dayofweek` property of `dt` from the `ts` Series\n",
                "1. store the weekday name into an additional Series `weekday_name` in `log` by using the `day_name()` method of `dt` from the `ts` Series\n",
                "1. display the first five entries\n",
                "\n",
                "*Note: The `ts` Series and the `log` DataFrame fit nicely together because the have the same so-called* `index` *(the mechanism that takes care of the order in a DataFrame or Series).*"
            ]
        },
        {
            "cell_type": "code",
            "execution_count": null,
            "metadata": {
                "tags": [
                    "delete"
                ]
            },
            "outputs": [],
            "source": []
        },
        {
            "cell_type": "markdown",
            "metadata": {
                "heading_collapsed": true
            },
            "source": [
                "###### <span style=\"color:green;\">SOLUTION <small>(Click the arrow on the left side if a hint is needed)</small></span>"
            ]
        },
        {
            "cell_type": "code",
            "execution_count": null,
            "metadata": {
                "tags": [],
                "deletable": false,
                "editable": false,
                "hidden": true,
                "run_control": {
                    "frozen": true
                }
            },
            "outputs": [
                {
                    "data": {
                        "text/html": [
                            "<div>\n",
                            "<style scoped>\n",
                            "    .dataframe tbody tr th:only-of-type {\n",
                            "        vertical-align: middle;\n",
                            "    }\n",
                            "\n",
                            "    .dataframe tbody tr th {\n",
                            "        vertical-align: top;\n",
                            "    }\n",
                            "\n",
                            "    .dataframe thead th {\n",
                            "        text-align: right;\n",
                            "    }\n",
                            "</style>\n",
                            "<table border=\"1\" class=\"dataframe\">\n",
                            "  <thead>\n",
                            "    <tr style=\"text-align: right;\">\n",
                            "      <th></th>\n",
                            "      <th>timestamp</th>\n",
                            "      <th>author</th>\n",
                            "      <th>hour</th>\n",
                            "      <th>weekday</th>\n",
                            "      <th>weekday_name</th>\n",
                            "    </tr>\n",
                            "  </thead>\n",
                            "  <tbody>\n",
                            "    <tr>\n",
                            "      <th>0</th>\n",
                            "      <td>2017-12-31 14:47:43</td>\n",
                            "      <td>Linus Torvalds</td>\n",
                            "      <td>14</td>\n",
                            "      <td>6</td>\n",
                            "      <td>Sunday</td>\n",
                            "    </tr>\n",
                            "    <tr>\n",
                            "      <th>1</th>\n",
                            "      <td>2017-12-31 13:13:56</td>\n",
                            "      <td>Linus Torvalds</td>\n",
                            "      <td>13</td>\n",
                            "      <td>6</td>\n",
                            "      <td>Sunday</td>\n",
                            "    </tr>\n",
                            "    <tr>\n",
                            "      <th>2</th>\n",
                            "      <td>2017-12-31 13:03:05</td>\n",
                            "      <td>Linus Torvalds</td>\n",
                            "      <td>13</td>\n",
                            "      <td>6</td>\n",
                            "      <td>Sunday</td>\n",
                            "    </tr>\n",
                            "    <tr>\n",
                            "      <th>3</th>\n",
                            "      <td>2017-12-31 12:30:34</td>\n",
                            "      <td>Linus Torvalds</td>\n",
                            "      <td>12</td>\n",
                            "      <td>6</td>\n",
                            "      <td>Sunday</td>\n",
                            "    </tr>\n",
                            "    <tr>\n",
                            "      <th>4</th>\n",
                            "      <td>2017-12-31 12:29:02</td>\n",
                            "      <td>Linus Torvalds</td>\n",
                            "      <td>12</td>\n",
                            "      <td>6</td>\n",
                            "      <td>Sunday</td>\n",
                            "    </tr>\n",
                            "  </tbody>\n",
                            "</table>\n",
                            "</div>"
                        ],
                        "text/plain": [
                            "             timestamp          author  hour  weekday weekday_name\n",
                            "0  2017-12-31 14:47:43  Linus Torvalds    14        6       Sunday\n",
                            "1  2017-12-31 13:13:56  Linus Torvalds    13        6       Sunday\n",
                            "2  2017-12-31 13:03:05  Linus Torvalds    13        6       Sunday\n",
                            "3  2017-12-31 12:30:34  Linus Torvalds    12        6       Sunday\n",
                            "4  2017-12-31 12:29:02  Linus Torvalds    12        6       Sunday"
                        ]
                    },
                    "execution_count": null,
                    "metadata": {},
                    "output_type": "execute_result"
                }
            ],
            "source": [
                "log['weekday'] = ts.dt.dayofweek\n",
                "log['weekday_name'] = ts.dt.day_name()\n",
                "log.head()"
            ]
        },
        {
            "cell_type": "markdown",
            "metadata": {},
            "source": [
                "#### Group data\n",
                "\n",
                "Now it's getting tricky. We need to group the values by the `weekday_name` day names but have also to keep the the order of the data with `weekday`.\n",
                "\n",
                "1. use `groupby` from the `log` DataFrame to group the list of Series `['weekday', 'weekday_name']`.\n",
                "1. select just the `timestamp` Series as remaining data\n",
                "1. aggregate the timestamp values with the `count()` method\n",
                "1. display all results"
            ]
        },
        {
            "cell_type": "code",
            "execution_count": null,
            "metadata": {
                "tags": [
                    "delete"
                ]
            },
            "outputs": [],
            "source": []
        },
        {
            "cell_type": "markdown",
            "metadata": {
                "heading_collapsed": true
            },
            "source": [
                "###### <span style=\"color:green;\">SOLUTION <small>(Click the arrow on the left side if a hint is needed)</small></span>"
            ]
        },
        {
            "cell_type": "code",
            "execution_count": null,
            "metadata": {
                "tags": [],
                "deletable": false,
                "editable": false,
                "hidden": true,
                "run_control": {
                    "frozen": true
                }
            },
            "outputs": [
                {
                    "data": {
                        "text/plain": [
                            "weekday  weekday_name\n",
                            "0        Monday          124296\n",
                            "1        Tuesday         131690\n",
                            "2        Wednesday       131019\n",
                            "3        Thursday        127097\n",
                            "4        Friday          117635\n",
                            "5        Saturday         44877\n",
                            "6        Sunday           46600\n",
                            "Name: timestamp, dtype: int64"
                        ]
                    },
                    "execution_count": null,
                    "metadata": {},
                    "output_type": "execute_result"
                }
            ],
            "source": [
                "commits_per_day = log.groupby(['weekday', 'weekday_name'])['timestamp'].count()\n",
                "commits_per_day"
            ]
        },
        {
            "cell_type": "markdown",
            "metadata": {},
            "source": [
                "#### Partially reset the index\n",
                "\n",
                "Now we need to just keep the ordered `weekday_name` as index.\n",
                "\n",
                "1. use the `reset_index` method with `level=0` as parameter to move the first index level back to a normal Series\n",
                "1. store the new indexed DataFrame into the `commits_per_day_name`\n",
                "1. display all results"
            ]
        },
        {
            "cell_type": "code",
            "execution_count": null,
            "metadata": {
                "tags": [
                    "delete"
                ]
            },
            "outputs": [],
            "source": []
        },
        {
            "cell_type": "markdown",
            "metadata": {
                "heading_collapsed": true
            },
            "source": [
                "###### <span style=\"color:green;\">SOLUTION <small>(Click the arrow on the left side if a hint is needed)</small></span>"
            ]
        },
        {
            "cell_type": "code",
            "execution_count": null,
            "metadata": {
                "tags": [],
                "deletable": false,
                "editable": false,
                "hidden": true,
                "run_control": {
                    "frozen": true
                }
            },
            "outputs": [
                {
                    "data": {
                        "text/html": [
                            "<div>\n",
                            "<style scoped>\n",
                            "    .dataframe tbody tr th:only-of-type {\n",
                            "        vertical-align: middle;\n",
                            "    }\n",
                            "\n",
                            "    .dataframe tbody tr th {\n",
                            "        vertical-align: top;\n",
                            "    }\n",
                            "\n",
                            "    .dataframe thead th {\n",
                            "        text-align: right;\n",
                            "    }\n",
                            "</style>\n",
                            "<table border=\"1\" class=\"dataframe\">\n",
                            "  <thead>\n",
                            "    <tr style=\"text-align: right;\">\n",
                            "      <th></th>\n",
                            "      <th>weekday</th>\n",
                            "      <th>timestamp</th>\n",
                            "    </tr>\n",
                            "    <tr>\n",
                            "      <th>weekday_name</th>\n",
                            "      <th></th>\n",
                            "      <th></th>\n",
                            "    </tr>\n",
                            "  </thead>\n",
                            "  <tbody>\n",
                            "    <tr>\n",
                            "      <th>Monday</th>\n",
                            "      <td>0</td>\n",
                            "      <td>124296</td>\n",
                            "    </tr>\n",
                            "    <tr>\n",
                            "      <th>Tuesday</th>\n",
                            "      <td>1</td>\n",
                            "      <td>131690</td>\n",
                            "    </tr>\n",
                            "    <tr>\n",
                            "      <th>Wednesday</th>\n",
                            "      <td>2</td>\n",
                            "      <td>131019</td>\n",
                            "    </tr>\n",
                            "    <tr>\n",
                            "      <th>Thursday</th>\n",
                            "      <td>3</td>\n",
                            "      <td>127097</td>\n",
                            "    </tr>\n",
                            "    <tr>\n",
                            "      <th>Friday</th>\n",
                            "      <td>4</td>\n",
                            "      <td>117635</td>\n",
                            "    </tr>\n",
                            "    <tr>\n",
                            "      <th>Saturday</th>\n",
                            "      <td>5</td>\n",
                            "      <td>44877</td>\n",
                            "    </tr>\n",
                            "    <tr>\n",
                            "      <th>Sunday</th>\n",
                            "      <td>6</td>\n",
                            "      <td>46600</td>\n",
                            "    </tr>\n",
                            "  </tbody>\n",
                            "</table>\n",
                            "</div>"
                        ],
                        "text/plain": [
                            "              weekday  timestamp\n",
                            "weekday_name                    \n",
                            "Monday              0     124296\n",
                            "Tuesday             1     131690\n",
                            "Wednesday           2     131019\n",
                            "Thursday            3     127097\n",
                            "Friday              4     117635\n",
                            "Saturday            5      44877\n",
                            "Sunday              6      46600"
                        ]
                    },
                    "execution_count": null,
                    "metadata": {},
                    "output_type": "execute_result"
                }
            ],
            "source": [
                "commits_per_day_name = commits_per_day.reset_index(level=0)\n",
                "commits_per_day_name"
            ]
        },
        {
            "cell_type": "markdown",
            "metadata": {},
            "source": [
                "#### Plot the commits per weekday\n",
                "\n",
                "1. plot the Series `timestamp` of `commits_per_day_name` as bar chart."
            ]
        },
        {
            "cell_type": "code",
            "execution_count": null,
            "metadata": {
                "tags": [
                    "delete"
                ]
            },
            "outputs": [],
            "source": []
        },
        {
            "cell_type": "markdown",
            "metadata": {
                "heading_collapsed": true
            },
            "source": [
                "###### <span style=\"color:green;\">SOLUTION <small>(Click the arrow on the left side if a hint is needed)</small></span>"
            ]
        },
        {
            "cell_type": "code",
            "execution_count": null,
            "metadata": {
                "tags": [],
                "deletable": false,
                "editable": false,
                "hidden": true,
                "run_control": {
                    "frozen": true
                }
            },
            "outputs": [
                {
                    "data": {
                        "image/png": "[encoded data removed]",
                        "text/plain": [
                            "<Figure size 432x288 with 1 Axes>"
                        ]
                    },
                    "metadata": {
                        "needs_background": "light"
                    },
                    "output_type": "display_data"
                }
            ],
            "source": [
                "commits_per_day_name['timestamp'].plot.bar();"
            ]
        },
        {
            "cell_type": "markdown",
            "metadata": {},
            "source": [
                "### Question 3: Overall daily progress\n",
                "\n",
                "In the following, we want to see the progress of the number of commits over the last years by using a `DatetimeIndex` based DataFrame. We want to aggregate the number of commits for each day."
            ]
        },
        {
            "cell_type": "markdown",
            "metadata": {},
            "source": [
                "#### Create a time-based DataFrame\n",
                "\n",
                "1. set the `ts` Series from above as index using `set_index(<Series>)`\n",
                "1. just select the `author` column (we just need one column for the counting later on)\n",
                "1. store the result in `log_timed`\n",
                "1. display the five first entries"
            ]
        },
        {
            "cell_type": "code",
            "execution_count": null,
            "metadata": {
                "tags": [
                    "delete"
                ]
            },
            "outputs": [],
            "source": []
        },
        {
            "cell_type": "markdown",
            "metadata": {
                "heading_collapsed": true
            },
            "source": [
                "###### <span style=\"color:green;\">SOLUTION <small>(Click the arrow on the left side if a hint is needed)</small></span>"
            ]
        },
        {
            "cell_type": "code",
            "execution_count": null,
            "metadata": {
                "tags": [],
                "deletable": false,
                "editable": false,
                "hidden": true,
                "run_control": {
                    "frozen": true
                }
            },
            "outputs": [
                {
                    "data": {
                        "text/plain": [
                            "timestamp\n",
                            "2017-12-31 14:47:43    Linus Torvalds\n",
                            "2017-12-31 13:13:56    Linus Torvalds\n",
                            "2017-12-31 13:03:05    Linus Torvalds\n",
                            "2017-12-31 12:30:34    Linus Torvalds\n",
                            "2017-12-31 12:29:02    Linus Torvalds\n",
                            "Name: author, dtype: object"
                        ]
                    },
                    "execution_count": null,
                    "metadata": {},
                    "output_type": "execute_result"
                }
            ],
            "source": [
                "log_timed = log.set_index(ts)['author']\n",
                "log_timed.head()"
            ]
        },
        {
            "cell_type": "markdown",
            "metadata": {},
            "source": [
                "#### Resample the dataset\n",
                "\n",
                "1. use the `resample(\"<time unit>\")` function of `log_timed` to group values on a daily basis using `\"D\"\u00b4*\n",
                "1. count the values per day using the `count()` method\n",
                "1. store the result in `commits_per_day`\n",
                "1. display the first five entries\n",
                "\n",
                "**Other time units are for example months (`M`), quarters (`Q`) or years (`A`).*"
            ]
        },
        {
            "cell_type": "code",
            "execution_count": null,
            "metadata": {
                "tags": [
                    "delete"
                ]
            },
            "outputs": [],
            "source": []
        },
        {
            "cell_type": "markdown",
            "metadata": {
                "heading_collapsed": true
            },
            "source": [
                "###### <span style=\"color:green;\">SOLUTION <small>(Click the arrow on the left side if a hint is needed)</small></span>"
            ]
        },
        {
            "cell_type": "code",
            "execution_count": null,
            "metadata": {
                "tags": [],
                "deletable": false,
                "editable": false,
                "hidden": true,
                "run_control": {
                    "frozen": true
                }
            },
            "outputs": [
                {
                    "data": {
                        "text/plain": [
                            "timestamp\n",
                            "2005-04-16    199\n",
                            "2005-04-17     30\n",
                            "2005-04-18     73\n",
                            "2005-04-19     28\n",
                            "2005-04-20      8\n",
                            "Freq: D, Name: author, dtype: int64"
                        ]
                    },
                    "execution_count": null,
                    "metadata": {},
                    "output_type": "execute_result"
                }
            ],
            "source": [
                "commits_per_day = log_timed.resample(\"D\").count()\n",
                "commits_per_day.head()"
            ]
        },
        {
            "cell_type": "markdown",
            "metadata": {},
            "source": [
                "#### Calculate the progress\n",
                "\n",
                "To show the commit history over time, we calculate the cumulative sum of all daily entries. This sums up all values one after another.\n",
                "\n",
                "1. use `cumsum()` on `commits_per_day`\n",
                "1. store the result in `commits_per_day_cumulative`\n",
                "1. display the first five results\n",
                "\n"
            ]
        },
        {
            "cell_type": "code",
            "execution_count": null,
            "metadata": {
                "tags": [
                    "delete"
                ]
            },
            "outputs": [],
            "source": []
        },
        {
            "cell_type": "markdown",
            "metadata": {
                "heading_collapsed": true
            },
            "source": [
                "###### <span style=\"color:green;\">SOLUTION <small>(Click the arrow on the left side if a hint is needed)</small></span>"
            ]
        },
        {
            "cell_type": "code",
            "execution_count": null,
            "metadata": {
                "tags": [],
                "deletable": false,
                "editable": false,
                "hidden": true,
                "run_control": {
                    "frozen": true
                }
            },
            "outputs": [
                {
                    "data": {
                        "text/plain": [
                            "timestamp\n",
                            "2005-04-16    199\n",
                            "2005-04-17    229\n",
                            "2005-04-18    302\n",
                            "2005-04-19    330\n",
                            "2005-04-20    338\n",
                            "Freq: D, Name: author, dtype: int64"
                        ]
                    },
                    "execution_count": null,
                    "metadata": {},
                    "output_type": "execute_result"
                }
            ],
            "source": [
                "commits_per_day_cumulative = commits_per_day.cumsum()\n",
                "commits_per_day_cumulative.head()"
            ]
        },
        {
            "cell_type": "markdown",
            "metadata": {},
            "source": [
                "#### Plot the results\n",
                "\n",
                "1 . plot the results of the accumulated values as a line chart."
            ]
        },
        {
            "cell_type": "code",
            "execution_count": null,
            "metadata": {
                "tags": [
                    "delete"
                ]
            },
            "outputs": [],
            "source": []
        },
        {
            "cell_type": "markdown",
            "metadata": {
                "heading_collapsed": true
            },
            "source": [
                "###### <span style=\"color:green;\">SOLUTION <small>(Click the arrow on the left side if a hint is needed)</small></span>"
            ]
        },
        {
            "cell_type": "code",
            "execution_count": null,
            "metadata": {
                "tags": [],
                "deletable": false,
                "editable": false,
                "hidden": true,
                "run_control": {
                    "frozen": true
                }
            },
            "outputs": [
                {
                    "data": {
                        "image/png": "[encoded data removed]",
                        "text/plain": [
                            "<Figure size 432x288 with 1 Axes>"
                        ]
                    },
                    "metadata": {
                        "needs_background": "light"
                    },
                    "output_type": "display_data"
                }
            ],
            "source": [
                "commits_per_day_cumulative.plot();"
            ]
        },
        {
            "cell_type": "markdown",
            "metadata": {},
            "source": [
                "# Summary\n",
                "\n",
                "You've learned some basics about pandas and its usage with software data. This will hopefully get you started in your daily work. Other important topics that are still missing are:\n",
                "\n",
                "* Reading in complicated or semi-structured data structures\n",
                "* Merging different data sources with `pd.merge` and `join`\n",
                "* Transforming data with `pivot_table`\n",
                "\n",
                "But with the features shown, you are on a good way to become a Software Development Analyst that can leverage Data Science to fix problems in software systems!\n",
                "\n",
                "If you want to dive deeper into this topic, take a look at my [other blog posts on that topic](http://www.feststelltaste.de/category/software-analytics/). I'm also [offering training for companies](http://markusharrer.de/) who want to fix their problems using data analysis in software development.\n",
                "\n",
                "If you want to dive deeper into this topic, take a look at my [blog posts on that topic](http://www.feststelltaste.de/category/software-analytics/). I'm looking forward to your comments and feedback on [GitHub](https://github.com/feststelltaste/software-analytics-workshop/issues) or on [Twitter](https://www.twitter.com/feststelltaste)!"
            ]
        }
    ],
    "metadata": {
        "kernelspec": {
            "display_name": "Python 3",
            "language": "python",
            "name": "python3"
        },
        "language_info": {
            "codemirror_mode": {
                "name": "ipython",
                "version": 3
            },
            "file_extension": ".py",
            "mimetype": "text/x-python",
            "name": "python",
            "nbconvert_exporter": "python",
            "pygments_lexer": "ipython3",
            "version": "3.8.3"
        }
    },
    "nbformat": 4,
    "nbformat_minor": 2
}